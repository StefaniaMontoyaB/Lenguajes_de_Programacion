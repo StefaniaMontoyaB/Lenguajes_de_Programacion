{
  "cells": [
    {
      "cell_type": "markdown",
      "source": [
        "## ¿Qué es una librería en Python?\n",
        "\n",
        "Una **librería** en Python es un conjunto de módulos que contienen código reutilizable. Estas librerías nos permiten acceder a funciones y herramientas predefinidas sin tener que escribirlas desde cero. Esto es especialmente útil cuando trabajamos con tareas complejas, como análisis de datos o cálculos financieros, que ya han sido optimizados y empaquetados en librerías como **NumPy**.\n",
        "\n",
        "### **Principales librerías de Python Ciencia de datos:**\n",
        "\n",
        "* **NumPy:** Para operaciones matemáticas y manipulación de arreglos multidimensionales.\n",
        "* **Pandas:** Para el análisis de datos y manipulación de estructuras de datos.\n",
        "* **SciPy**: Para cálculos científicos y técnicos, incluyendo optimización y álgebra lineal.\n",
        "* **Matplotlib:** Para visualización de datos en gráficos y figuras.\n",
        "* **Seaborn:** Para visualización de datos estadísticos, construido sobre Matplotlib.\n",
        "* **Statsmodels:** Para la estimación de modelos estadísticos y pruebas.\n"
      ],
      "metadata": {
        "id": "_Bq2UGuaycS3"
      }
    },
    {
      "cell_type": "markdown",
      "source": [
        "## ¿Por qué usamos import?\n",
        "\n",
        "Para poder utilizar las funciones y herramientas de una librería en nuestro código, debemos primero importarla. Esto lo hacemos usando la palabra clave import. Cuando ejecutamos import numpy, estamos diciendo a Python que queremos utilizar la librería NumPy en nuestro código.\""
      ],
      "metadata": {
        "id": "OXnc5n8ayr8n"
      }
    },
    {
      "cell_type": "code",
      "source": [
        "# Importar la librería Numpy\n",
        "\n",
        "import numpy"
      ],
      "metadata": {
        "id": "ugwP3xQHy2y9"
      },
      "execution_count": null,
      "outputs": []
    },
    {
      "cell_type": "markdown",
      "source": [
        "## ¿Qué significa **as** y por qué es importante?\n",
        "\n",
        "A veces, el nombre de una librería puede ser largo o poco práctico de escribir muchas veces en el código. En estos casos, podemos darle un alias (un nombre corto) usando la palabra clave ***as***. Esto nos permite escribir código más limpio y fácil de leer. Por ejemplo, es común usar ***np*** como alias de **NumPy**, de esta forma, podemos llamar las funciones de **NumPy** de manera más concisa.\""
      ],
      "metadata": {
        "id": "ZIlBWExly9fp"
      }
    },
    {
      "cell_type": "code",
      "source": [
        "# Importar NumPy con el alias np\n",
        "import numpy as np\n"
      ],
      "metadata": {
        "id": "CvNQ0hPTzZR9"
      },
      "execution_count": null,
      "outputs": []
    },
    {
      "cell_type": "markdown",
      "source": [
        "Ejemplo: En lugar de escribir ***numpy.array()***, podemos escribir ***np.array()***, lo que hace que el código sea más corto y fácil de manejar."
      ],
      "metadata": {
        "id": "Ukf5_1DAy_or"
      }
    },
    {
      "cell_type": "markdown",
      "metadata": {
        "id": "HpmWWHQeN9-B"
      },
      "source": [
        "# **Introducción NUMPY**\n",
        "\n",
        "**NumPy**, es una de las librerías más importantes en Python para el cálculo numérico y el manejo eficiente de grandes conjuntos de datos.\n",
        "\n",
        "Nos permite manipular matrices, realizar cálculos vectorizados y trabajar con datos en múltiples dimensiones de manera eficiente.\"\n",
        "\n",
        "**Numpy**, permite el óptimo manejo de los array(listas), en comparación\n",
        "con una una lista de python, consume menos memoria, la asignación de memoria de cada item es ordenada,\n",
        "permitiendo agilidad, eficiencia y usabilidad en el manejo de las listas."
      ]
    },
    {
      "cell_type": "code",
      "source": [
        "import numpy as np\n",
        "import sys\n",
        "\n",
        "# Crear una lista de Python y un array de NumPy\n",
        "lista = list(range(1000))  # Lista en Python\n",
        "array_ny = np.array(range(1000))  # Array en NumPy\n",
        "\n",
        "# Tamaño en memoria de la lista (suma del tamaño de los elementos)\n",
        "size_lista = sys.getsizeof(lista) + sum(sys.getsizeof(i) for i in lista)\n",
        "\n",
        "# Tamaño en memoria del array NumPy (tamaño del array más los datos)\n",
        "size_array_ny = array_ny.nbytes + sys.getsizeof(array_ny)\n",
        "\n",
        "# Imprimir resultados\n",
        "print(\"Tamaño de la lista en memoria: {} bytes\".format(size_lista))\n",
        "print(\"Tamaño del numpy array en memoria: {} bytes\".format(size_array_ny))\n"
      ],
      "metadata": {
        "colab": {
          "base_uri": "https://localhost:8080/"
        },
        "id": "8Lq8ZFMFTpfu",
        "outputId": "85672417-f6c8-43be-e6d9-15479330aa44"
      },
      "execution_count": null,
      "outputs": [
        {
          "output_type": "stream",
          "name": "stdout",
          "text": [
            "Tamaño de la lista en memoria: 36052 bytes\n",
            "Tamaño del numpy array en memoria: 16112 bytes\n"
          ]
        }
      ]
    },
    {
      "cell_type": "markdown",
      "source": [
        "**Ventaja**: \"Los arrays de NumPy son más rápidos y eficientes que las listas de Python, especialmente cuando se manejan grandes cantidades de datos.\""
      ],
      "metadata": {
        "id": "bUM-_ZN90GxH"
      }
    },
    {
      "cell_type": "markdown",
      "source": [
        "## Arrays: La base de NumPy\n",
        "\n",
        "### ¿Qué es un array?\n",
        "\n",
        "En **NumPy,** un **array** es una estructura de datos similar a una lista en Python, pero con la capacidad de almacenar y operar con grandes volúmenes de datos numéricos de manera eficiente. Los arrays pueden tener una o más dimensiones, lo que les permite representar diferentes tipos de datos, desde vectores simples hasta matrices y bloques tridimensionales."
      ],
      "metadata": {
        "id": "qamXglgZ0n9K"
      }
    },
    {
      "cell_type": "markdown",
      "metadata": {
        "id": "5f4VLwomN9-G"
      },
      "source": [
        "## Creación de numpy arrays\n",
        "\n",
        "Los **arrays** son la estructura de datos principal en **NumPy**. A diferencia de las listas en Python, los arrays permiten realizar operaciones matemáticas de forma mucho más eficiente, ya que están optimizados para manejar grandes cantidades de datos.\n",
        "\n",
        "Para crear un array utilizando el modulo numpy importamos la libreria numpy"
      ]
    },
    {
      "cell_type": "code",
      "execution_count": null,
      "metadata": {
        "colab": {
          "base_uri": "https://localhost:8080/"
        },
        "id": "T7ZidWj0N9-H",
        "outputId": "98ba9310-e47b-475b-f52c-62dfa0138282"
      },
      "outputs": [
        {
          "output_type": "execute_result",
          "data": {
            "text/plain": [
              "numpy.ndarray"
            ]
          },
          "metadata": {},
          "execution_count": 18
        }
      ],
      "source": [
        "import numpy as np\n",
        "\n",
        "array = np.array([4.5, 3, 86]) # Array de dimensión1\n",
        "type(array)  # permite ver el tipo de array"
      ]
    },
    {
      "cell_type": "markdown",
      "source": [
        "## Dimensiones de un array\n",
        "\n",
        "NumPy permite trabajar con arrays de diferentes dimensiones. Dependiendo de la cantidad de dimensiones, se pueden utilizar para representar datos en varias formas:\n",
        "\n",
        "![image.png](data:image/png;base64,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)"
      ],
      "metadata": {
        "id": "euyCtgjd1NCh"
      }
    },
    {
      "cell_type": "markdown",
      "source": [
        "**1D array (array unidimensional):** Es como una lista simple. Se usa comúnmente para representar vectores o secuencias de datos, como una serie de tasas de interés."
      ],
      "metadata": {
        "id": "RDeCaV5P4e0f"
      }
    },
    {
      "cell_type": "code",
      "source": [
        "import numpy as np\n",
        "array_1d = np.array([1, 2, 3])\n",
        "print(array_1d)\n"
      ],
      "metadata": {
        "colab": {
          "base_uri": "https://localhost:8080/"
        },
        "id": "WXhEx6nX4mA_",
        "outputId": "b1436622-0918-4c37-d141-3a48f5ea0d7b"
      },
      "execution_count": null,
      "outputs": [
        {
          "output_type": "stream",
          "name": "stdout",
          "text": [
            "[1 2 3]\n"
          ]
        }
      ]
    },
    {
      "cell_type": "markdown",
      "source": [
        "**1D array:** Puede ser útil para representar una serie de tasas de interés anuales o rendimientos en un solo activo financiero."
      ],
      "metadata": {
        "id": "90AC6hVw4sqS"
      }
    },
    {
      "cell_type": "code",
      "source": [
        "# Crear un array de tasas de interés anuales\n",
        "tasas_interes = np.array([0.05, 0.03, 0.04, 0.06])\n",
        "print(\"Tasas de interés:\", tasas_interes)\n"
      ],
      "metadata": {
        "colab": {
          "base_uri": "https://localhost:8080/"
        },
        "id": "IPmMbfZm0AhO",
        "outputId": "32c7d428-d743-45ed-ffe2-63763a9f10b6"
      },
      "execution_count": null,
      "outputs": [
        {
          "output_type": "stream",
          "name": "stdout",
          "text": [
            "Tasas de interés: [0.05 0.03 0.04 0.06]\n"
          ]
        }
      ]
    },
    {
      "cell_type": "markdown",
      "source": [
        "**2D array (array bidimensional):** Es una matriz, con filas y columnas. Se utiliza para representar datos tabulares, como una tabla de precios o flujos de caja."
      ],
      "metadata": {
        "id": "mY83tXUj4327"
      }
    },
    {
      "cell_type": "code",
      "source": [
        "array_2d = np.array([[1.5, 2, 3], [4, 5, 6]])\n",
        "print(array_2d)\n"
      ],
      "metadata": {
        "colab": {
          "base_uri": "https://localhost:8080/"
        },
        "id": "EdRv3r6g5AdP",
        "outputId": "0ff2f4a5-127e-45ae-f03a-1a22ecce0958"
      },
      "execution_count": null,
      "outputs": [
        {
          "output_type": "stream",
          "name": "stdout",
          "text": [
            "[[1.5 2.  3. ]\n",
            " [4.  5.  6. ]]\n"
          ]
        }
      ]
    },
    {
      "cell_type": "markdown",
      "source": [
        "2D array: Se puede usar para almacenar precios de varios activos financieros a lo largo de varios días."
      ],
      "metadata": {
        "id": "Ie6BqwSv5Pu3"
      }
    },
    {
      "cell_type": "code",
      "source": [
        "# Precios de activos en 3 días\n",
        "precios_activos = np.array([[100, 102, 104], [200, 198, 202], [150, 152, 155]])\n",
        "print(\"Precios de activos:\\n\", precios_activos)\n"
      ],
      "metadata": {
        "colab": {
          "base_uri": "https://localhost:8080/"
        },
        "id": "HTDCnPib5Q6m",
        "outputId": "43821a65-5c61-4616-d452-b3de60d4baa7"
      },
      "execution_count": null,
      "outputs": [
        {
          "output_type": "stream",
          "name": "stdout",
          "text": [
            "Precios de activos:\n",
            " [[100 102 104]\n",
            " [200 198 202]\n",
            " [150 152 155]]\n"
          ]
        }
      ]
    },
    {
      "cell_type": "markdown",
      "source": [
        "**3D array (array tridimensional):** Representa un bloque de datos con varias \"capas\" de matrices 2D. Esto se utiliza para manejar datos en el espacio tridimensional o múltiples tablas a la vez, como si tuvieras varios conjuntos de datos apilados."
      ],
      "metadata": {
        "id": "p5GFAKYF5Frh"
      }
    },
    {
      "cell_type": "code",
      "source": [
        "array_3d = np.array([[[1, 2, 3], [4, 5, 6]], [[7, 8, 9], [10, 11, 12]]])\n",
        "print(array_3d)\n"
      ],
      "metadata": {
        "colab": {
          "base_uri": "https://localhost:8080/"
        },
        "id": "6UBdq_wC5JFW",
        "outputId": "75fbdfa4-5ae9-491a-8e16-03c3bd924454"
      },
      "execution_count": null,
      "outputs": [
        {
          "output_type": "stream",
          "name": "stdout",
          "text": [
            "[[[ 1  2  3]\n",
            "  [ 4  5  6]]\n",
            "\n",
            " [[ 7  8  9]\n",
            "  [10 11 12]]]\n"
          ]
        }
      ]
    },
    {
      "cell_type": "markdown",
      "source": [
        "**3D array:** Un array tridimensional añade una capa adicional, permitiendo organizar datos en varias dimensiones. Es útil para almacenar grandes cantidades de información, como los precios de activos en diferentes mercados y periodos de tiempo."
      ],
      "metadata": {
        "id": "YsQqlQ-t5c68"
      }
    },
    {
      "cell_type": "code",
      "source": [
        "#Crear un array tridimensional que represente precios de dos activos en tres días en dos mercados diferentes\n",
        "\n",
        "precios_tridimensionales = np.array([[[100, 102, 101], [200, 202, 201]],\n",
        "                                     [[150, 152, 151], [250, 252, 251]]])\n",
        "print(\"Array tridimensional de precios:\\n\", precios_tridimensionales)\n"
      ],
      "metadata": {
        "colab": {
          "base_uri": "https://localhost:8080/"
        },
        "id": "ySJEzcJK5gsq",
        "outputId": "6651db39-c6d3-4350-d393-a43bdb8ad552"
      },
      "execution_count": null,
      "outputs": [
        {
          "output_type": "stream",
          "name": "stdout",
          "text": [
            "Array tridimensional de precios:\n",
            " [[[100 102 101]\n",
            "  [200 202 201]]\n",
            "\n",
            " [[150 152 151]\n",
            "  [250 252 251]]]\n"
          ]
        }
      ]
    },
    {
      "cell_type": "markdown",
      "source": [
        "## **Explicación de los ejes (axis)**\n",
        "Cada array tiene ejes (axis) que determinan las dimensiones:\n",
        "\n",
        "* **axis 0:** se refiere a las filas.\n",
        "* **axis 1:** se refiere a las columnas.\n",
        "* **axis 2:** aplica en arrays de 3 dimensiones, como la profundidad o las capas de matrices 2D apiladas.\n",
        "\n",
        "En la imagen:\n",
        "\n",
        "* El array **1D** solo tiene un eje (axis 0), donde los valores se almacenan de manera secuencial.\n",
        "* El array **2D** tiene dos ejes (axis 0 y axis 1) para representar filas y columnas.\n",
        "* El array **3D** agrega un tercer eje (axis 2), lo que añade profundidad o capas a las matrices."
      ],
      "metadata": {
        "id": "TUM4_wkRI_N7"
      }
    },
    {
      "cell_type": "markdown",
      "source": [
        "## Longitud y dimensión de un arreglo"
      ],
      "metadata": {
        "id": "jXstXP0E6KVQ"
      }
    },
    {
      "cell_type": "code",
      "execution_count": null,
      "metadata": {
        "colab": {
          "base_uri": "https://localhost:8080/"
        },
        "id": "munBv5ZZN9-H",
        "outputId": "89de79b8-a098-4e32-8768-94c85d25a359"
      },
      "outputs": [
        {
          "output_type": "execute_result",
          "data": {
            "text/plain": [
              "(3,)"
            ]
          },
          "metadata": {},
          "execution_count": 7
        }
      ],
      "source": [
        "array_1d.shape # el comando shape permite ver la longitud del arreglo"
      ]
    },
    {
      "cell_type": "code",
      "execution_count": null,
      "metadata": {
        "colab": {
          "base_uri": "https://localhost:8080/"
        },
        "id": "c-ITkQdcN9-H",
        "outputId": "dc85be38-faf5-43ac-8b96-498ecbd3e39d"
      },
      "outputs": [
        {
          "output_type": "execute_result",
          "data": {
            "text/plain": [
              "1"
            ]
          },
          "metadata": {},
          "execution_count": 8
        }
      ],
      "source": [
        "array_1d.ndim # El comando ndim permite conocer la dimensión del arreglo"
      ]
    },
    {
      "cell_type": "markdown",
      "source": [
        "## **Array en NumPy:**\n",
        "Un array es una estructura de datos general que puede tener una, dos o más dimensiones.\n",
        "Es más flexible, ya que soporta operaciones de cualquier tipo de número de dimensiones, como 1D, 2D, 3D o más.\n",
        "Puedes realizar operaciones elemento por elemento, pero también operaciones matriciales, si es necesario.\n",
        "Los arrays son el tipo de dato por defecto en NumPy y son más eficientes para la mayoría de las operaciones numéricas generales.\n",
        "\n",
        "\n",
        "\n",
        "```\n",
        "import numpy as np\n",
        "\n",
        "# Array unidimensional\n",
        "array_1D = np.array([1, 2, 3])\n",
        "\n",
        "# Array bidimensional (matriz)\n",
        "array_2D = np.array([[1, 2], [3, 4]])\n",
        "\n",
        "# Array tridimensional\n",
        "array_3D = np.array([[[1, 2], [3, 4]], [[5, 6], [7, 8]]])\n",
        "\n",
        "print(array_1D)\n",
        "print(array_2D)\n",
        "print(array_3D)\n",
        "\n",
        "```\n",
        "\n",
        "\n",
        "\n",
        "## Matriz en NumPy:\n",
        "Una matriz es un tipo especial de array, siempre bidimensional (2D).\n",
        "Está específicamente diseñada para realizar operaciones matriciales, como multiplicación de matrices o resolución de sistemas lineales.\n",
        "Aunque puedes realizar operaciones matriciales con arrays bidimensionales, NumPy proporciona un tipo separado llamado np.matrix para operaciones puramente algebraicas.\n",
        "Sin embargo, el uso de np.matrix es menos común, y la documentación oficial sugiere usar arrays bidimensionales (np.array) para la mayoría de las operaciones.\n",
        "\n",
        "\n",
        "\n",
        "```\n",
        "# Crear una matriz\n",
        "matriz = np.matrix([[1, 2], [3, 4]])\n",
        "\n",
        "print(matriz)\n",
        "\n",
        "# Multiplicar dos matrices\n",
        "matriz_2 = np.matrix([[5, 6], [7, 8]])\n",
        "resultado = matriz * matriz_2\n",
        "print(\"Multiplicación de matrices:\\n\", resultado)\n",
        "\n",
        "```\n",
        "\n"
      ],
      "metadata": {
        "id": "FwgQuh946jIo"
      }
    },
    {
      "cell_type": "code",
      "source": [
        "#Array en NumPy\n",
        "\n",
        "import numpy as np\n",
        "\n",
        "# Array unidimensional\n",
        "array_1D = np.array([1, 2, 3])\n",
        "\n",
        "# Array bidimensional (matriz)\n",
        "array_2D = np.array([[1, 2], [3, 4]])\n",
        "\n",
        "# Array tridimensional\n",
        "array_3D = np.array([[[1, 2], [3, 4]], [[5, 6], [7, 8]]])\n",
        "\n",
        "print(array_1D)\n",
        "print(\"\\n\",(array_2D))\n",
        "print(\"\\n\", \"\\n\",(array_3D))"
      ],
      "metadata": {
        "id": "6_YvjZzRdJrc",
        "outputId": "dc5ca59c-c008-4af0-8101-bb82f41e7447",
        "colab": {
          "base_uri": "https://localhost:8080/"
        }
      },
      "execution_count": 8,
      "outputs": [
        {
          "output_type": "stream",
          "name": "stdout",
          "text": [
            "[1 2 3]\n",
            "\n",
            " [[1 2]\n",
            " [3 4]]\n",
            "\n",
            " \n",
            " [[[1 2]\n",
            "  [3 4]]\n",
            "\n",
            " [[5 6]\n",
            "  [7 8]]]\n"
          ]
        }
      ]
    },
    {
      "cell_type": "code",
      "source": [
        "# Crear una matriz\n",
        "matriz = np.matrix([[1, 2], [3, 4]])\n",
        "\n",
        "print(matriz)\n",
        "\n",
        "# Multiplicar dos matrices\n",
        "matriz_2 = np.matrix([[5, 6], [7, 8]])\n",
        "resultado = matriz * matriz_2\n",
        "print(\"Multiplicación de matrices:\\n\", resultado)"
      ],
      "metadata": {
        "id": "IBLehrrGfbOR",
        "outputId": "e5787013-82d3-42b4-cc38-f25f3f6866f5",
        "colab": {
          "base_uri": "https://localhost:8080/"
        }
      },
      "execution_count": 9,
      "outputs": [
        {
          "output_type": "stream",
          "name": "stdout",
          "text": [
            "[[1 2]\n",
            " [3 4]]\n",
            "Multiplicación de matrices:\n",
            " [[19 22]\n",
            " [43 50]]\n"
          ]
        }
      ]
    },
    {
      "cell_type": "code",
      "execution_count": null,
      "metadata": {
        "colab": {
          "base_uri": "https://localhost:8080/"
        },
        "id": "5182NOoDN9-I",
        "outputId": "143c4a17-9277-435d-fb6e-a71817375558"
      },
      "outputs": [
        {
          "output_type": "execute_result",
          "data": {
            "text/plain": [
              "array([[ 1,  2,  1],\n",
              "       [ 5, 43,  5]])"
            ]
          },
          "metadata": {},
          "execution_count": 9
        }
      ],
      "source": [
        "# Para crear una matriz, la cual es un vector de dos dimensiones, es decir una lista de lista\n",
        "\n",
        "matriz = np.array([\n",
        "    [ 1,2, 1 ],\n",
        "    [5, 43, 5]\n",
        "])\n",
        "\n",
        "matriz"
      ]
    },
    {
      "cell_type": "code",
      "source": [
        "# Crear una matriz\n",
        "matriz = np.matrix([[1, 2, 1], [5, 43,5]])\n",
        "\n",
        "print(matriz)\n",
        "\n"
      ],
      "metadata": {
        "colab": {
          "base_uri": "https://localhost:8080/"
        },
        "id": "P57zF3qK7U5r",
        "outputId": "3a7e0c22-b07c-4e48-e06f-939685395242"
      },
      "execution_count": null,
      "outputs": [
        {
          "output_type": "stream",
          "name": "stdout",
          "text": [
            "[[ 1  2  1]\n",
            " [ 5 43  5]]\n"
          ]
        }
      ]
    },
    {
      "cell_type": "code",
      "execution_count": null,
      "metadata": {
        "colab": {
          "base_uri": "https://localhost:8080/"
        },
        "id": "lSiH3l-vN9-I",
        "outputId": "c40d07cf-84f1-4f26-d53e-08620fa6b2fb"
      },
      "outputs": [
        {
          "output_type": "execute_result",
          "data": {
            "text/plain": [
              "2"
            ]
          },
          "metadata": {},
          "execution_count": 28
        }
      ],
      "source": [
        "matriz.ndim"
      ]
    },
    {
      "cell_type": "code",
      "execution_count": null,
      "metadata": {
        "colab": {
          "base_uri": "https://localhost:8080/"
        },
        "id": "l9RxoigDN9-I",
        "outputId": "6ca61d54-ab5d-48af-d2e3-43200369f623"
      },
      "outputs": [
        {
          "output_type": "execute_result",
          "data": {
            "text/plain": [
              "(2, 3)"
            ]
          },
          "metadata": {},
          "execution_count": 29
        }
      ],
      "source": [
        "matriz.shape"
      ]
    },
    {
      "cell_type": "markdown",
      "source": [
        "## **Diferencias clave:**\n",
        "### **Dimensiones:**\n",
        "\n",
        "\n",
        "*   Un array puede ser de cualquier dimensión (1D, 2D, 3D, etc.).\n",
        "*   Una matriz es siempre bidimensional (2D).\n",
        "\n",
        "\n",
        "### **Operaciones:**\n",
        "\n",
        "* Los arrays permiten operaciones elemento por elemento de manera predeterminada (suma, resta, multiplicación de cada elemento).\n",
        "* Las matrices están diseñadas principalmente para operaciones matriciales (como multiplicación de matrices).\n",
        "\n",
        "Ejemplo de multiplicación de arrays vs. matrices:"
      ],
      "metadata": {
        "id": "RFz8H73O7uaR"
      }
    },
    {
      "cell_type": "code",
      "source": [
        "# Multiplicación de arrays (elemento por elemento)\n",
        "array_1 = np.array([[1, 2], [3, 4]])\n",
        "array_2 = np.array([[5, 6], [7, 8]])\n",
        "resultado_array = array_1 * array_2  # Multiplicación elemento a elemento\n",
        "print(resultado_array)\n"
      ],
      "metadata": {
        "colab": {
          "base_uri": "https://localhost:8080/"
        },
        "id": "fYF7yJvJ8HoH",
        "outputId": "22de3bfc-6f3e-4e5c-d0c5-b014f2575dae"
      },
      "execution_count": null,
      "outputs": [
        {
          "output_type": "stream",
          "name": "stdout",
          "text": [
            "[[ 5 12]\n",
            " [21 32]]\n"
          ]
        }
      ]
    },
    {
      "cell_type": "code",
      "source": [
        "# Multiplicación de matrices (producto matricial):\n",
        "\n",
        "matriz_1 = np.matrix([[1, 2], [3, 4]])\n",
        "matriz_2 = np.matrix([[5, 6], [7, 8]])\n",
        "resultado_matriz = matriz_1 * matriz_2  # Producto matricial\n",
        "print(resultado_matriz)\n",
        "\n"
      ],
      "metadata": {
        "id": "Ai7pzNRa8JKj",
        "outputId": "c9872a26-953b-4e03-9b2e-90fbd5975933",
        "colab": {
          "base_uri": "https://localhost:8080/"
        }
      },
      "execution_count": 10,
      "outputs": [
        {
          "output_type": "stream",
          "name": "stdout",
          "text": [
            "[[19 22]\n",
            " [43 50]]\n"
          ]
        }
      ]
    },
    {
      "cell_type": "markdown",
      "metadata": {
        "id": "-MNj2BGoN9-I"
      },
      "source": [
        "### Matriz de indentidad\n",
        "\n",
        "Una **matriz de identidad** es una matriz cuadrada con unos en la diagonal y ceros en las demás posiciones. En ingeniería financiera, las matrices de identidad se utilizan en modelos de optimización o para preservar ciertas propiedades en transformaciones de datos\n",
        "\n",
        " el comando `np.eye` crea una matriz identidad de tamaño 4x4"
      ]
    },
    {
      "cell_type": "code",
      "execution_count": null,
      "metadata": {
        "colab": {
          "base_uri": "https://localhost:8080/"
        },
        "id": "2PZUU95eN9-J",
        "outputId": "ae7322af-5ce9-4c0b-be1c-a310828be0ec"
      },
      "outputs": [
        {
          "output_type": "execute_result",
          "data": {
            "text/plain": [
              "array([[1., 0., 0., 0.],\n",
              "       [0., 1., 0., 0.],\n",
              "       [0., 0., 1., 0.],\n",
              "       [0., 0., 0., 1.]])"
            ]
          },
          "metadata": {},
          "execution_count": 12
        }
      ],
      "source": [
        "np.eye(4) # el valor dentro de () define el tamaño de la matriz a crear"
      ]
    },
    {
      "cell_type": "code",
      "source": [
        "# Crear una matriz de identidad de 3x3\n",
        "matriz_identidad = np.eye(3)\n",
        "print(\"Matriz de identidad:\\n\", matriz_identidad)\n"
      ],
      "metadata": {
        "colab": {
          "base_uri": "https://localhost:8080/"
        },
        "id": "rj6Z3o08IGJh",
        "outputId": "0c82b537-6c8c-4e4f-f8c7-d7fb2552614d"
      },
      "execution_count": null,
      "outputs": [
        {
          "output_type": "stream",
          "name": "stdout",
          "text": [
            "Matriz de identidad:\n",
            " [[1. 0. 0.]\n",
            " [0. 1. 0.]\n",
            " [0. 0. 1.]]\n"
          ]
        }
      ]
    },
    {
      "cell_type": "markdown",
      "source": [
        "**¿Dónde se usa una matriz de identidad en finanzas?**\n",
        "Se usa, por ejemplo, en cálculos de matrices inversas, que son clave para resolver sistemas de ecuaciones en modelos econométricos.\n",
        "\n",
        "**Ejercicio:**\n",
        "Utiliza una matriz de identidad en una multiplicación de matrices y observa cómo no altera los datos originales."
      ],
      "metadata": {
        "id": "HMrqt8pYIKDG"
      }
    },
    {
      "cell_type": "markdown",
      "metadata": {
        "id": "IxuFdG4GN9-J"
      },
      "source": [
        "### matriz de ceros\n",
        "\n",
        "El comando `np.zeros` crea un arreglo con todos los valores a 0"
      ]
    },
    {
      "cell_type": "code",
      "execution_count": null,
      "metadata": {
        "colab": {
          "base_uri": "https://localhost:8080/"
        },
        "id": "KjvpqI1tN9-J",
        "outputId": "64884470-3e8e-4fb0-9ef9-ba9608ba72b5"
      },
      "outputs": [
        {
          "output_type": "execute_result",
          "data": {
            "text/plain": [
              "array([[0., 0., 0.],\n",
              "       [0., 0., 0.],\n",
              "       [0., 0., 0.],\n",
              "       [0., 0., 0.]])"
            ]
          },
          "metadata": {},
          "execution_count": 13
        }
      ],
      "source": [
        "np.zeros((4,3)) # Para definir una matriz (x,y) o un vector (x)"
      ]
    },
    {
      "cell_type": "markdown",
      "metadata": {
        "id": "vQ8ffj4XN9-J"
      },
      "source": [
        "### Matriz de unos\n",
        "\n",
        "El comando`np.ones` crea un arreglo de longitud 5 inicializado con todos los valores en 1 (${\\vec {1}}$)"
      ]
    },
    {
      "cell_type": "code",
      "execution_count": null,
      "metadata": {
        "id": "pyTwOvjaN9-J",
        "outputId": "e6af9131-9d13-4163-e2ce-35c9c600571f"
      },
      "outputs": [
        {
          "data": {
            "text/plain": [
              "array([1., 1., 1., 1., 1.])"
            ]
          },
          "execution_count": 25,
          "metadata": {},
          "output_type": "execute_result"
        }
      ],
      "source": [
        "np.ones((5))"
      ]
    },
    {
      "cell_type": "markdown",
      "metadata": {
        "id": "ykkFlzV9N9-J"
      },
      "source": [
        "### matriz de valores aleatorios (Simulaciones y Números Aleatorios)\n",
        "\n",
        "El comando `np.random` genera un array con valores aleatorios en el intervalo [0, 1)\n",
        "\n"
      ]
    },
    {
      "cell_type": "code",
      "execution_count": null,
      "metadata": {
        "id": "CeEoiOrnN9-K",
        "outputId": "158df3ff-5e59-4471-f52b-de801a212ae5"
      },
      "outputs": [
        {
          "data": {
            "text/plain": [
              "array([[0.02902146, 0.58563332],\n",
              "       [0.17632787, 0.69097199],\n",
              "       [0.7054221 , 0.85295717],\n",
              "       [0.52497384, 0.12109578]])"
            ]
          },
          "execution_count": 26,
          "metadata": {},
          "output_type": "execute_result"
        }
      ],
      "source": [
        "np.random.random((4,2))"
      ]
    },
    {
      "cell_type": "markdown",
      "source": [
        "NumPy permite generar números aleatorios que son útiles para simulaciones, como el análisis de [Monte Carlo](https://es.wikipedia.org/wiki/M%C3%A9todo_de_Montecarlo). Esto se utiliza para prever el comportamiento de inversiones bajo diferentes escenarios."
      ],
      "metadata": {
        "id": "CSWEe2etIv-T"
      }
    },
    {
      "cell_type": "code",
      "source": [
        "# Simular rendimientos aleatorios para 10 años\n",
        "rendimientos = np.random.normal(0.05, 0.02, 10)\n",
        "print(\"Rendimientos simulados:\", rendimientos)\n"
      ],
      "metadata": {
        "colab": {
          "base_uri": "https://localhost:8080/"
        },
        "id": "xcoQ5uqpIsM9",
        "outputId": "ee018e03-8443-4f1b-b79c-fdc7d4050a8f"
      },
      "execution_count": null,
      "outputs": [
        {
          "output_type": "stream",
          "name": "stdout",
          "text": [
            "Rendimientos simulados: [0.0475176  0.06766272 0.08124715 0.05153745 0.02760643 0.07514933\n",
            " 0.07675256 0.05327387 0.05731292 0.03369169]\n"
          ]
        }
      ]
    },
    {
      "cell_type": "markdown",
      "metadata": {
        "id": "AIdwyzX4N9-L"
      },
      "source": [
        "# Ventajas de np.array versus lists"
      ]
    },
    {
      "cell_type": "code",
      "execution_count": null,
      "metadata": {
        "id": "jDvxSNB7N9-L"
      },
      "outputs": [],
      "source": [
        "array_1d = np.array([1,2,3])"
      ]
    },
    {
      "cell_type": "code",
      "execution_count": null,
      "metadata": {
        "colab": {
          "base_uri": "https://localhost:8080/"
        },
        "id": "q_pcBUheN9-L",
        "outputId": "d0b573f7-a78c-42ee-c90d-c8884ed0ad23"
      },
      "outputs": [
        {
          "output_type": "execute_result",
          "data": {
            "text/plain": [
              "(3,)"
            ]
          },
          "metadata": {},
          "execution_count": 32
        }
      ],
      "source": [
        "array_1d.shape"
      ]
    },
    {
      "cell_type": "markdown",
      "metadata": {
        "id": "MIavYBCaN9-N"
      },
      "source": [
        "Para poder utilizar todo el potencial de utilizacion numerica de numpy, todos los elementos del numpy array tienen que ser del mismo tipo, si no lo son, numpy intenta convertir los elementos a un sólo tipo. Numpy hace eso para poder hacer operaciones vectorizadas."
      ]
    },
    {
      "cell_type": "code",
      "execution_count": null,
      "metadata": {
        "colab": {
          "base_uri": "https://localhost:8080/"
        },
        "id": "zyMXzXKkN9-N",
        "outputId": "422ff10c-e89d-4218-f7d5-a86f89055211"
      },
      "outputs": [
        {
          "output_type": "execute_result",
          "data": {
            "text/plain": [
              "array([1. , 5.4])"
            ]
          },
          "metadata": {},
          "execution_count": 37
        }
      ],
      "source": [
        "np.array([1.0, 5.4])"
      ]
    },
    {
      "cell_type": "code",
      "execution_count": null,
      "metadata": {
        "colab": {
          "base_uri": "https://localhost:8080/"
        },
        "id": "g0XYbDvqN9-O",
        "outputId": "7a597644-7916-4c39-a907-83e4d6672c26"
      },
      "outputs": [
        {
          "output_type": "execute_result",
          "data": {
            "text/plain": [
              "array([1. , 3.9])"
            ]
          },
          "metadata": {},
          "execution_count": 38
        }
      ],
      "source": [
        "np.array([1, 3.9])"
      ]
    },
    {
      "cell_type": "markdown",
      "metadata": {
        "id": "Bm4KtEyPN9-O"
      },
      "source": [
        "hacemos `dtype` para ver el tipo de datos que almacena el array."
      ]
    },
    {
      "cell_type": "code",
      "execution_count": null,
      "metadata": {
        "colab": {
          "base_uri": "https://localhost:8080/"
        },
        "id": "KnONj62aN9-O",
        "outputId": "b76a6ac8-8308-464a-f571-478005166038"
      },
      "outputs": [
        {
          "output_type": "execute_result",
          "data": {
            "text/plain": [
              "dtype('float64')"
            ]
          },
          "metadata": {},
          "execution_count": 39
        }
      ],
      "source": [
        "np.array([1, 3.9]).dtype"
      ]
    },
    {
      "cell_type": "code",
      "execution_count": null,
      "metadata": {
        "colab": {
          "base_uri": "https://localhost:8080/"
        },
        "id": "T2LummePN9-O",
        "outputId": "7c9b4a46-9cca-4462-afa6-dc37df4c2020"
      },
      "outputs": [
        {
          "output_type": "execute_result",
          "data": {
            "text/plain": [
              "array(['1', '1'], dtype='<U21')"
            ]
          },
          "metadata": {},
          "execution_count": 40
        }
      ],
      "source": [
        "np.array([1, \"1\"])"
      ]
    },
    {
      "cell_type": "markdown",
      "metadata": {
        "id": "ujiiItkIN9-O"
      },
      "source": [
        "Si no puede optimizar un array, numpy lo creara con el tipo `object`, en el que trabajara simplemente con objetos de python."
      ]
    },
    {
      "cell_type": "code",
      "execution_count": null,
      "metadata": {
        "colab": {
          "base_uri": "https://localhost:8080/"
        },
        "id": "7AgJcDC4N9-P",
        "outputId": "9e86c2e2-6085-4a65-de86-18d705bd0bad"
      },
      "outputs": [
        {
          "output_type": "execute_result",
          "data": {
            "text/plain": [
              "array([1, datetime.datetime(2024, 10, 15, 20, 53, 59, 742352)],\n",
              "      dtype=object)"
            ]
          },
          "metadata": {},
          "execution_count": 41
        }
      ],
      "source": [
        "from datetime import datetime\n",
        "\n",
        "np.array([1, datetime.utcnow()])"
      ]
    },
    {
      "cell_type": "markdown",
      "source": [
        "## Operaciones Básicas con NumPy\n",
        "\n",
        "Una de las principales razones por las que usamos NumPy es su capacidad para realizar operaciones matemáticas de manera sencilla y eficiente. Veamos cómo podemos calcular el **valor futuro (VF**) de una serie de inversiones utilizando tasas de interés y montos iniciales con operaciones vectorizadas.\""
      ],
      "metadata": {
        "id": "qv49X6Ac_4tz"
      }
    },
    {
      "cell_type": "code",
      "source": [
        "# Crear un array con los montos iniciales de inversión\n",
        "montos_iniciales = np.array([1000, 1500, 1200, 1300])\n",
        "\n",
        "# Calcular el valor futuro: VF = P * (1 + r)^n\n",
        "# Supongamos que el período de inversión es de 5 años\n",
        "periodo = 5\n",
        "valores_futuros = montos_iniciales * (1 + tasas_interes)**periodo\n",
        "print(\"Valores futuros de las inversiones:\", valores_futuros)\n"
      ],
      "metadata": {
        "colab": {
          "base_uri": "https://localhost:8080/"
        },
        "id": "4AH2naYFAM5Y",
        "outputId": "27cd5a6a-80fc-4282-a705-4af479052c05"
      },
      "execution_count": null,
      "outputs": [
        {
          "output_type": "stream",
          "name": "stdout",
          "text": [
            "Valores futuros de las inversiones: [1276.2815625  1738.91111145 1459.98348288 1739.69325088]\n"
          ]
        }
      ]
    },
    {
      "cell_type": "markdown",
      "source": [
        "## Uso de Funciones Financieras en NumPy (numpy_financial)\n",
        "### **Introducción a `numpy_financial`**\n",
        "\n",
        "la librería `numpy_financial`, contiene funciones financieras útiles como el cálculo del Valor Presente Neto (NPV), la Tasa Interna de Retorno (IRR), entre otras.\n",
        "\n",
        "La librería **`numpy_financial`** es una extensión de NumPy, especialmente diseñada para operaciones financieras. Anteriormente, algunas de estas funciones estaban disponibles en NumPy, pero se trasladaron a esta nueva librería a partir de la versión 1.20.\n",
        "\n",
        "---\n",
        "\n",
        "## **Instalación de la librería**\n",
        "\n",
        "Primero, debemos asegurarnos de que la librería `numpy_financial` está instalada. Si estás usando Google Colab o un entorno local, puedes instalarla utilizando el siguiente comando:\n",
        "```python\n",
        "!pip install numpy-financial\n",
        "\n"
      ],
      "metadata": {
        "id": "l2Fu5HZ-AaNW"
      }
    },
    {
      "cell_type": "markdown",
      "source": [
        "##Instalar la librería\n",
        "\n"
      ],
      "metadata": {
        "id": "QCBl1BI2CFTH"
      }
    },
    {
      "cell_type": "code",
      "source": [
        "!pip install numpy-financial"
      ],
      "metadata": {
        "colab": {
          "base_uri": "https://localhost:8080/"
        },
        "id": "QUPcKQlICOeo",
        "outputId": "3d4d6700-600d-4c68-be55-5b0130fabb4c"
      },
      "execution_count": null,
      "outputs": [
        {
          "output_type": "stream",
          "name": "stdout",
          "text": [
            "Collecting numpy-financial\n",
            "  Downloading numpy_financial-1.0.0-py3-none-any.whl.metadata (2.2 kB)\n",
            "Requirement already satisfied: numpy>=1.15 in /usr/local/lib/python3.10/dist-packages (from numpy-financial) (1.26.4)\n",
            "Downloading numpy_financial-1.0.0-py3-none-any.whl (14 kB)\n",
            "Installing collected packages: numpy-financial\n",
            "Successfully installed numpy-financial-1.0.0\n"
          ]
        }
      ]
    },
    {
      "cell_type": "markdown",
      "source": [
        "## Importación de librerías\n",
        "\n",
        "Ahora que hemos instalado **numpy_financial**, la importaremos junto con NumPy."
      ],
      "metadata": {
        "id": "eXk0CWWACaJ9"
      }
    },
    {
      "cell_type": "code",
      "source": [
        "import numpy as np\n",
        "import numpy_financial as npf\n"
      ],
      "metadata": {
        "id": "Rms8NJrdCf3C"
      },
      "execution_count": null,
      "outputs": []
    },
    {
      "cell_type": "markdown",
      "source": [
        "## **Funciones principales de numpy_financial**\n",
        "### 1. Valor Presente Neto (NPV)\n",
        "\n",
        "El **Valor Presente Neto (NPV)** es una medida clave utilizada en la ingeniería financiera para determinar la rentabilidad de una inversión, teniendo en cuenta el valor temporal del dinero. La fórmula es:\n",
        "\n",
        "![image.png](data:image/png;base64,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)\n",
        "\n",
        "Donde:\n",
        "\n",
        "* Ct son los flujos en cada periodo t\n",
        "* r es la tasa de descuento"
      ],
      "metadata": {
        "id": "MkLf9HGOCsTe"
      }
    },
    {
      "cell_type": "markdown",
      "source": [
        "**Ejemplo:**\n",
        "\n",
        "Supongamos que tienes un proyecto que genera los siguientes flujos de caja:"
      ],
      "metadata": {
        "id": "pauJ1ZCcDUFW"
      }
    },
    {
      "cell_type": "code",
      "source": [
        "# Tasa de descuento\n",
        "tasa_descuento = 0.05  # 5%\n",
        "\n",
        "# Flujos de caja\n",
        "flujos_de_caja = np.array([-1000, 200, 300, 400, 500, 600])\n",
        "\n",
        "# Cálculo del NPV usando numpy_financial\n",
        "npv = npf.npv(tasa_descuento, flujos_de_caja)\n",
        "print(f\"El Valor Presente Neto (VPN) es: {npv}\")\n",
        "\n"
      ],
      "metadata": {
        "colab": {
          "base_uri": "https://localhost:8080/"
        },
        "id": "BnC5lH6RApGQ",
        "outputId": "3cbd44b0-02fe-4f79-f77f-bd39007f88d2"
      },
      "execution_count": null,
      "outputs": [
        {
          "output_type": "stream",
          "name": "stdout",
          "text": [
            "El Valor Presente Neto (VPN) es: 689.587010703212\n"
          ]
        }
      ]
    },
    {
      "cell_type": "markdown",
      "source": [
        "**Ejercicio:**\n",
        "Cambia los valores de los flujos de caja y la tasa de descuento para ver cómo cambia el VPN."
      ],
      "metadata": {
        "id": "g7Ml3AiCDhHL"
      }
    },
    {
      "cell_type": "markdown",
      "source": [
        "### **Tasa Interna de Retorno (IRR)**\n",
        "La Tasa Interna de Retorno **(TIR o IRR en inglés)** es la tasa de descuento que hace que el NPV de un proyecto sea igual a cero. En otras palabras, es la tasa a la cual los flujos de caja de una inversión se igualan al costo inicial.\n",
        "\n",
        "La función **npf.irr()** permite calcularla fácilmente:"
      ],
      "metadata": {
        "id": "AD-RVvq2DmqI"
      }
    },
    {
      "cell_type": "markdown",
      "source": [
        "**Ejemplo:**\n",
        "Calculemos la TIR de un proyecto con los siguientes flujos de caja:"
      ],
      "metadata": {
        "id": "yDAaA3t6EAGT"
      }
    },
    {
      "cell_type": "code",
      "source": [
        "# Flujos de caja de un proyecto\n",
        "flujos_de_caja = np.array([-1000, 200, 300, 400, 500, 600])\n",
        "\n",
        "# Cálculo de la TIR usando numpy_financial\n",
        "tir = npf.irr(flujos_de_caja)\n",
        "print(f\"La Tasa Interna de Retorno (TIR) es: {tir * 100:.2f}%\")\n"
      ],
      "metadata": {
        "colab": {
          "base_uri": "https://localhost:8080/"
        },
        "id": "4wPk6trwDtYA",
        "outputId": "b4bb0ac5-91ea-4ead-8d1c-f343b4447c7c"
      },
      "execution_count": null,
      "outputs": [
        {
          "output_type": "stream",
          "name": "stdout",
          "text": [
            "La Tasa Interna de Retorno (TIR) es: 23.29%\n"
          ]
        }
      ]
    },
    {
      "cell_type": "markdown",
      "source": [
        "**Ejercicio:**\n",
        "Modifica los flujos de caja y observa cómo cambia la TIR"
      ],
      "metadata": {
        "id": "T1RSxi6nDyFp"
      }
    },
    {
      "cell_type": "markdown",
      "source": [
        "## **Cálculo de pagos de préstamos (PMT)**\n",
        "La función **npf.pmt()** calcula el pago mensual (o en cualquier intervalo de tiempo) para un préstamo basado en pagos periódicos y una tasa de interés constante.\n",
        "\n",
        "**Fórmula del pago de préstamo:**\n",
        "\n",
        "![image.png](data:image/png;base64,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)\n",
        "\n",
        "**Ejemplo: **\n",
        "\n",
        "Supongamos que pedimos un préstamo de $20,000 con una tasa de interés del 5% anual, y debemos pagarlo en 10 años (120 meses)."
      ],
      "metadata": {
        "id": "RuCI2BJFEOPQ"
      }
    },
    {
      "cell_type": "code",
      "source": [
        "# Parámetros del préstamo\n",
        "monto_prestamo = 20000\n",
        "tasa_interes_anual = 0.05 / 12  # Tasa mensual\n",
        "numero_periodos = 10 * 12  # Número de meses (10 años)\n",
        "\n",
        "# Cálculo del pago mensual\n",
        "pago_mensual = npf.pmt(tasa_interes_anual, numero_periodos, monto_prestamo)\n",
        "\n",
        "print(f\"El pago mensual es: {pago_mensual}\")\n"
      ],
      "metadata": {
        "colab": {
          "base_uri": "https://localhost:8080/"
        },
        "id": "TQLinEvtEiTj",
        "outputId": "ef8a1b7f-d399-491a-ffbf-0d9cfe846d5c"
      },
      "execution_count": null,
      "outputs": [
        {
          "output_type": "stream",
          "name": "stdout",
          "text": [
            "El pago mensual es: -212.13103047815108\n"
          ]
        }
      ]
    },
    {
      "cell_type": "markdown",
      "source": [
        "**Ejercicio:**\n",
        "Cambia el monto del préstamo o el número de años y observa cómo afecta el pago mensual."
      ],
      "metadata": {
        "id": "D3XF_McAEk6y"
      }
    },
    {
      "cell_type": "markdown",
      "source": [
        "### **Valor Futuro (FV)**\n",
        "\n",
        "La función **npf.fv()** se utiliza para calcular el valor futuro de una inversión basada en pagos periódicos y una tasa de interés constante.\n",
        "\n",
        "**Fórmula del valor futuro:**\n",
        "\n",
        "![image.png](data:image/png;base64,iVBORw0KGgoAAAANSUhEUgAAANEAAAAzCAIAAACG1HoxAAAJYUlEQVR4Ae1c3U8TTRd//oH+Adz0jpteEa4MwQsN3thkHy6a+BWjJJAQAxJqCBAlwYDNEskrSZfGqlWbqEmRG0GiIQG1ViEVXUIlgcbGsAlIgVLL0qVl6exrGDPvdj/apd3tU5935oLMnp45c/Y3v509c2aWvwRcMAKlReCv0naHe8MICJhzmASlRgBzrtSI4/4w5zAHSo0A5lypEcf9Yc4VyIFMJsOyLACgwPb6NeN5PplM6mfPcEuYc4VAzPO8x+MJBAKFNNa7Dc/zLpdL7gzP8/CpyGQy8Xg8nU7r3XOB9jDnCgHu+fPnd+/elU9yqVRqcnJyd3e3EKNFtNnZ2ens7FxaWkI2OI57+PBhd3f38PCw2+1+9epVY2Pjt2/fkIK+lfX19Tdv3mi0iTmnEaj/qa2srDQ1Nf348QOJWJZ9+/YtSZInTpyor6+PxWLop5JV5ubmrl27xnEc7HF+fj4YDFIUNTAwwPN8Op3u6uqamZnR1x+GYcbGxtrb2y0WC0mSGo1jzmkE6rcaAMB5WMSTHMuyHz9+DIfDfX19R+Wc2+2ORCJHc0JJO5lMXrlyBU02PM/v7u62t7fTNC0IwtbWVkNDQzgcVmpauIxhmA8fPiwuLhIEgTlXOI65W25tbZ09exYOpFyTJMmjco6iKL2o4PF4ent7Dw4OoGMMwzQ0NKytrQmCMDc319rayrJsKpWSu12kJBaL1dfXY84VCaNqc5qmbTbb5uamooZxnAMARCKRhYUF/rAsLCyEQqFMJiN2IxgM1tfXI98CgUBXV1c6nQYADAwM+Hw++rCIm+hSx5zTBUZVIz6fr62tDYVNEj3jODczM+N2u1tbW2/cuNHX1zc+Pm63271er9iBcDhMEMTy8jIUUhQFFQAALpfL6XQ+e/aM53lxE13qmHO6wKhqhCRJ8ftLomcQ51Kp1PDwcDweHxwcrKmpWVpaCgaDFRUVFEWJHYBjjxYKe3t7iGEAAI7jxDGouGGRdcy5IgHM05w8LGpKeTmXTqdj2eX27dufP38WyxKJhIQcGxsbT58+TSaTLS0tkPHb29u/FoyJRELsCRz76elpsVBLXe6V2J9YLCZ3SWwWc06Mhv71Ijnn9/v/k13OnTvX09Mjlj148EAxw8cwTF1d3cTEhNpdwbEfHR1VU1CTB4NBsQPyuppL0CDmnBqw+siL5JzcCe3r1kAgcOzYMRSuyU3BsUfvVrmCQRLMOYOA/W3W4/HY7fa9vT3FbvK+W+WttHOOoqiLFy9K3qdig2tra1arNRgMioUlqGPOGQvyxMREjoEnSZIgCJSt0OKKRs5xHIeCOTWzy8vLNpuNYRg1BYPkkHMOh0MShqp1h/ch1JBRlofD4TNnzkjGNR6Pt7S01NbWmg6LxWIhCOLly5fKJrKlGjkXjUYJgnj9+nV266yr6enpHHmcLFWdLmiaJgjCYrHAG6+trb106dL3799zm5dyDi7CoQn535qamnA4nEgkWlpazGYzVKiurkZ5+f39/f7+fig3m80jIyO5uy/411Qq5XA4qqurYV9wmKurq81mc0NDw/z8vMZn7qgOJJPJ5ubmAtaGah1p5BwAgGVZSRJYbPPg4KC/v1+SsRMrlE9dyjnoGUmSVVVVoVAIOZrJZCYmJqxWK3rEZ2ZmTCaTfMcjk8ncunXLoPQj8gdWIpHI8ePHxQmzVCrlcrksFotxofTU1FRnZ6dem0izs7O6nAlYXV1tbm5eXV2VQFSGlwqcY1m2qanJZrPF43Gxx4lEoqurCwEUDodramrE4w2Vl5aWHA6HXkMidkBeDwQCJpNJkh2ADwPc9pE3KV7CcVx3d/eXL1+KN6WXBQCA1+sdGRkxaHbXy09oR4FzkskDAACXaYlEYmhoCG37rK2tnT59WhJApFIpkiSNO6cluXmKoiTzsSAI09PTJpNJ/jDAthzHSZ4lKAcAxGKxHC8vcdfRaPT69evRaFQs/AfroVCot7f3TzktrMA5OGZo8mAYxu12AwB2d3f9fj96kuLxuM1mkxyjmJqa8nq9SMfQYfjFnra2Nsl8DMOaiooKdKpH4sPPnz9v3rwpOcoBAJicnKQoCm0WSVrJLxmG8Xq9+/v78p9KLNna2vJ4PH8K4QRB6fvWwcFBNHlkMhmPx6OY+4ZDXldXhyK89fX1np4exVnEiGGAeXnJfPb+/fuqqqqhoaEc7Nnc3Ozo6ECnagsgnBG38/9jUzrPwWDObDZbrVa4+FfLfR8cHPT29qJfAQD379/XErmzLNvR0fF3vvLkyZPcw/DrqEVFRUVjYyPaq4HT3rt37/K+IhHtMOFyg2zEr1LOSVYGDMPY7Xa13Pfg4KDJZII8C4VCTqczx+yiu/cURVVWVvr9frQhnXsrWuIApJ3T6dT+SpUnj7BEDQEJ2uJLKedgMOfz+aASCubEbVDd5/PBZWMymezv7y/lQh2+2Y+a9EeeC4IAABgdHT116tTi4qJYjutGI5DFOXigFAVzgiDwPK+2tygIAkxVeDye0dFRxZhP0XsAQCKRQJOTWkXxbAUyCIO5ghMiAIAXL15QFBWNRnt6elBsh+zjinEIZHFOLTOn1j1N05WVlefPn3c4HCiHoqaM5DzP0zTtz1dy8wDSHc3HyLiWCiIcjAS2t7cx7bTgppdOFuckwVzePqA+PLmaV1lHBfjxVWVlJdpz024cADA2NuZyucShJ6addgCL1/zNOZqmrVYr2kI9efJkR0cHy7K5O4AHCh49elSahJwgCOl0miRJ8W761atX1ZY4is6vrKw8fvxYTDioxrLsvXv38t6yok0sPBICWfPckVrCaO/r16/a36pHtY/1/5UIFMW5fyUi+KaMRgBzzmiEsX0pAphzUkTwtdEIYM4ZjbAh9pPJZDAY3NjYEARhY2NDr0N4hvgqM4o5J4Ok7AUcx925c8fr9RIEQVHU0NCQz+e7cOGC+F9FlfNNYM6V8+go+zY3N/frUyB4zHFgYIBlWbvdLj7go9ysbKSYc2UzFJodGR8fj0QigUAA7lICAGZnZz99+lSyLKlmT5UVMeeUcSl/ad7PXcv2FjDnynZocjkGP3fV/klpLlsl/w1zruSQ69Fh3v9dokcnRtnAnDMKWUPtomDO0F4MMo45ZxCwxpr1er2XL1/e2dkxthtjrGPOGYOrwVbT6fSfe7QCc85gdmDzMgQw52SQYIHBCGDOGQwwNi9D4L9IUy0o5mKY4AAAAABJRU5ErkJggg==)\n",
        "\n",
        "**Ejemplo: **\n",
        "\n",
        "Supongamos que realizas pagos mensuales de $300 a una tasa de interés del 5% anual durante 20 años. ¿Cuál será el valor futuro de tu inversión?\n",
        "\n",
        "\n"
      ],
      "metadata": {
        "id": "CflayOjXE2VP"
      }
    },
    {
      "cell_type": "code",
      "source": [
        "# Parámetros de la inversión\n",
        "tasa_interes_mensual = 0.05 / 12  # Tasa de interés mensual\n",
        "numero_periodos = 20 * 12  # Número de meses (20 años)\n",
        "pago_mensual = -300  # El pago es negativo porque es un flujo de salida\n",
        "valor_presente = 0  # Suponiendo que comenzamos con 0\n",
        "\n",
        "# Cálculo del valor futuro\n",
        "valor_futuro = npf.fv(tasa_interes_mensual, numero_periodos, pago_mensual, valor_presente)\n",
        "\n",
        "print(f\"El Valor Futuro de la inversión es: {valor_futuro:.2f}\")\n"
      ],
      "metadata": {
        "colab": {
          "base_uri": "https://localhost:8080/"
        },
        "id": "TM9tCxGlFGrP",
        "outputId": "b5c289bf-faf2-4430-a91d-e08b1a2e8e91"
      },
      "execution_count": null,
      "outputs": [
        {
          "output_type": "stream",
          "name": "stdout",
          "text": [
            "El Valor Futuro de la inversión es: 123310.10\n"
          ]
        }
      ]
    },
    {
      "cell_type": "markdown",
      "source": [
        "**Explicación de los Parámetros:**\n",
        "* **tasa_interes_mensual:** Tasa de interés por periodo (mensual en este caso).\n",
        "* **numero_periodos:** Total de pagos (20 años convertidos a meses).\n",
        "* **pago_mensual:** El flujo de caja por cada periodo (en este caso, la cantidad que se invierte mensualmente, que es un flujo de salida y por eso se pone como negativo).\n",
        "* **valor_presente**: El capital inicial que se tiene antes de empezar a realizar las inversiones periódicas (en este caso, se considera que es 0)."
      ],
      "metadata": {
        "id": "4kUeCsAHFi2R"
      }
    },
    {
      "cell_type": "markdown",
      "metadata": {
        "id": "3qBeeKSPN9-Q"
      },
      "source": [
        "# Seleccion por secciones y por indices (slicing e indexing)"
      ]
    },
    {
      "cell_type": "code",
      "execution_count": null,
      "metadata": {
        "id": "0V93hR5yN9-Q",
        "outputId": "24d9a123-35cc-4a56-c823-e55de19a42c9"
      },
      "outputs": [
        {
          "data": {
            "text/plain": [
              "array([[ 1,  2,  3,  4],\n",
              "       [ 5,  6,  7,  8],\n",
              "       [ 9, 10, 11, 12]])"
            ]
          },
          "execution_count": 148,
          "metadata": {},
          "output_type": "execute_result"
        }
      ],
      "source": [
        "matriz_34 = np.array([[1,2,3,4], [5,6,7,8], [9,10,11,12]])\n",
        "matriz_34"
      ]
    },
    {
      "cell_type": "markdown",
      "metadata": {
        "id": "UJMJ4h59N9-R"
      },
      "source": [
        "obtenemos la primera fila igual que con una lista normal"
      ]
    },
    {
      "cell_type": "code",
      "execution_count": null,
      "metadata": {
        "id": "1SNKqvg4N9-R",
        "outputId": "8f2be26a-2806-405f-c06c-96e437f9c224"
      },
      "outputs": [
        {
          "data": {
            "text/plain": [
              "array([1, 2, 3, 4])"
            ]
          },
          "execution_count": 149,
          "metadata": {},
          "output_type": "execute_result"
        }
      ],
      "source": [
        "matriz_34[0]"
      ]
    },
    {
      "cell_type": "markdown",
      "metadata": {
        "id": "GJSJ2wS9N9-R"
      },
      "source": [
        "seleccionamos la 1 y 2 fila"
      ]
    },
    {
      "cell_type": "code",
      "execution_count": null,
      "metadata": {
        "id": "ygOFcoZ3N9-S",
        "outputId": "36609bc8-2554-488a-f14f-1db2fcde7a29"
      },
      "outputs": [
        {
          "data": {
            "text/plain": [
              "array([[1, 2, 3, 4],\n",
              "       [5, 6, 7, 8]])"
            ]
          },
          "execution_count": 150,
          "metadata": {},
          "output_type": "execute_result"
        }
      ],
      "source": [
        "matriz_34[:2]"
      ]
    },
    {
      "cell_type": "markdown",
      "metadata": {
        "id": "T5XQi-urN9-S"
      },
      "source": [
        "Seleccionamos el 2 elemento de cada fila (o sea, la segunda columna de la matriz)"
      ]
    },
    {
      "cell_type": "code",
      "execution_count": null,
      "metadata": {
        "id": "wQs3EQZrN9-S",
        "outputId": "caa8ca70-e5e0-43ee-cde7-b1373418fd30"
      },
      "outputs": [
        {
          "data": {
            "text/plain": [
              "array([ 2,  6, 10])"
            ]
          },
          "execution_count": 151,
          "metadata": {},
          "output_type": "execute_result"
        }
      ],
      "source": [
        "matriz_34[:,1]"
      ]
    },
    {
      "cell_type": "markdown",
      "metadata": {
        "id": "GHQLYUO6N9-S"
      },
      "source": [
        "al seleccionar secciones no obtenemos copias, sino referencias al mismo array"
      ]
    },
    {
      "cell_type": "code",
      "execution_count": null,
      "metadata": {
        "id": "6WA4FI0DN9-S",
        "outputId": "754a1505-d05e-4517-d69a-8ee1581282cb"
      },
      "outputs": [
        {
          "data": {
            "text/plain": [
              "array([[1, 2, 3, 4],\n",
              "       [5, 6, 7, 8]])"
            ]
          },
          "execution_count": 152,
          "metadata": {},
          "output_type": "execute_result"
        }
      ],
      "source": [
        "seccion = matriz_34[:2,:]\n",
        "seccion"
      ]
    },
    {
      "cell_type": "code",
      "execution_count": null,
      "metadata": {
        "id": "X_4JtBvCN9-S",
        "outputId": "b7b2cad8-6031-42c5-b3f1-a9d22451c547"
      },
      "outputs": [
        {
          "name": "stdout",
          "output_type": "stream",
          "text": [
            "2\n"
          ]
        },
        {
          "data": {
            "text/plain": [
              "array([[ 0,  2,  3,  4],\n",
              "       [ 5,  6,  7,  8],\n",
              "       [ 9, 10, 11, 12]])"
            ]
          },
          "execution_count": 153,
          "metadata": {},
          "output_type": "execute_result"
        }
      ],
      "source": [
        "print(matriz_34[0,1])\n",
        "seccion[0, 0] = 0\n",
        "matriz_34"
      ]
    },
    {
      "cell_type": "markdown",
      "metadata": {
        "id": "zjBi8wqMN9-S"
      },
      "source": [
        "Sin embargo, al seleccionar un elemento esto no pasa"
      ]
    },
    {
      "cell_type": "code",
      "execution_count": null,
      "metadata": {
        "id": "1U9RsYS8N9-T",
        "outputId": "d1a93628-3084-4b97-b38e-36fc17bc213b"
      },
      "outputs": [
        {
          "name": "stdout",
          "output_type": "stream",
          "text": [
            "8\n"
          ]
        },
        {
          "data": {
            "text/plain": [
              "array([[ 0,  2,  3,  4],\n",
              "       [ 5,  6,  7,  8],\n",
              "       [ 9, 10, 11, 12]])"
            ]
          },
          "execution_count": 154,
          "metadata": {},
          "output_type": "execute_result"
        }
      ],
      "source": [
        "seleccion = matriz_34[1,3]\n",
        "print(seleccion)\n",
        "seleccion = 100\n",
        "matriz_34"
      ]
    },
    {
      "cell_type": "markdown",
      "metadata": {
        "id": "JfT2eOO_N9-T"
      },
      "source": [
        "## Filtrado\n",
        "\n",
        "**NumPy** también permite filtrar datos, lo que significa que podemos seleccionar subconjuntos específicos de un array basado en ciertas condiciones"
      ]
    },
    {
      "cell_type": "code",
      "execution_count": null,
      "metadata": {
        "id": "DT_-8OYhN9-T",
        "outputId": "b14bc23d-7ee8-465f-d5ad-00f78c88c5f3"
      },
      "outputs": [
        {
          "data": {
            "text/plain": [
              "array([[1, 4],\n",
              "       [2, 4],\n",
              "       [5, 0]])"
            ]
          },
          "execution_count": 163,
          "metadata": {},
          "output_type": "execute_result"
        }
      ],
      "source": [
        "matriz_32 = np.array([[1, 4], [2, 4], [5, 0]])\n",
        "matriz_32"
      ]
    },
    {
      "cell_type": "code",
      "execution_count": null,
      "metadata": {
        "id": "_N7CY9RVN9-T",
        "outputId": "a5940a69-bf7d-44ad-994b-eca1bdf8b7ed"
      },
      "outputs": [
        {
          "data": {
            "text/plain": [
              "array([[False,  True],\n",
              "       [ True,  True],\n",
              "       [ True, False]], dtype=bool)"
            ]
          },
          "execution_count": 170,
          "metadata": {},
          "output_type": "execute_result"
        }
      ],
      "source": [
        "indice_fitrado = (matriz_32 >= 2)\n",
        "indice_fitrado"
      ]
    },
    {
      "cell_type": "code",
      "execution_count": null,
      "metadata": {
        "id": "ntx_G_1ZN9-T",
        "outputId": "d434de11-0166-46ef-945c-f1361839a0a4"
      },
      "outputs": [
        {
          "data": {
            "text/plain": [
              "array([4, 2, 4, 5])"
            ]
          },
          "execution_count": 171,
          "metadata": {},
          "output_type": "execute_result"
        }
      ],
      "source": [
        "matriz_32[indice_fitrado]"
      ]
    },
    {
      "cell_type": "markdown",
      "metadata": {
        "id": "-nYocOffN9-U"
      },
      "source": [
        "## Aritmetica con numpy arrays"
      ]
    },
    {
      "cell_type": "code",
      "execution_count": null,
      "metadata": {
        "id": "1shkMYDkN9-U",
        "outputId": "9ffd8e9e-eaf7-4228-8902-b0789c658d2a"
      },
      "outputs": [
        {
          "name": "stdout",
          "output_type": "stream",
          "text": [
            "[[2 3]\n",
            " [0 1]]\n",
            "[[23  6]\n",
            " [ 0 42]]\n"
          ]
        }
      ],
      "source": [
        "array1 = np.array([[2,3],[0,1]])\n",
        "array2 = np.array([[23,6],[0,42]])\n",
        "\n",
        "print(array1)\n",
        "print(array2)"
      ]
    },
    {
      "cell_type": "markdown",
      "metadata": {
        "id": "CRxgv9yRN9-U"
      },
      "source": [
        "suma elemento a elemento"
      ]
    },
    {
      "cell_type": "code",
      "execution_count": null,
      "metadata": {
        "id": "QUUaKlZcN9-U",
        "outputId": "3fe0b112-8cf1-4359-b3b7-820efa20b976"
      },
      "outputs": [
        {
          "data": {
            "text/plain": [
              "array([[25,  9],\n",
              "       [ 0, 43]])"
            ]
          },
          "execution_count": 174,
          "metadata": {},
          "output_type": "execute_result"
        }
      ],
      "source": [
        "array1 + array2"
      ]
    },
    {
      "cell_type": "markdown",
      "metadata": {
        "id": "rrA-VYyjN9-U"
      },
      "source": [
        "multiplicación elemento a elemento"
      ]
    },
    {
      "cell_type": "code",
      "execution_count": null,
      "metadata": {
        "id": "lvvAf39IN9-U",
        "outputId": "180b8cef-f20f-4111-d640-5759ed22b7ea"
      },
      "outputs": [
        {
          "data": {
            "text/plain": [
              "array([[46, 18],\n",
              "       [ 0, 42]])"
            ]
          },
          "execution_count": 175,
          "metadata": {},
          "output_type": "execute_result"
        }
      ],
      "source": [
        "array1 * array2"
      ]
    },
    {
      "cell_type": "markdown",
      "metadata": {
        "id": "KFMBL_eCN9-U"
      },
      "source": [
        "Desde python 3.5, podemos usar el simbolo `@` para indicar una multiplicación de matrices (para versiones anteriores se usa la funcion `dot`"
      ]
    },
    {
      "cell_type": "code",
      "execution_count": null,
      "metadata": {
        "id": "R1dZLbvhN9-U",
        "outputId": "5910b278-e18f-4ec9-a681-e72fa5bef530"
      },
      "outputs": [
        {
          "data": {
            "text/plain": [
              "array([[ 46, 138],\n",
              "       [  0,  42]])"
            ]
          },
          "execution_count": 177,
          "metadata": {},
          "output_type": "execute_result"
        }
      ],
      "source": [
        "array1 @ array2"
      ]
    },
    {
      "cell_type": "markdown",
      "metadata": {
        "id": "q1FKCOGjN9-V"
      },
      "source": [
        "equivale a"
      ]
    },
    {
      "cell_type": "code",
      "execution_count": null,
      "metadata": {
        "id": "kcFek6yuN9-V",
        "outputId": "b1310a8b-c5fe-442f-92f5-3000e51d3bd8"
      },
      "outputs": [
        {
          "data": {
            "text/plain": [
              "array([[ 46, 138],\n",
              "       [  0,  42]])"
            ]
          },
          "execution_count": 180,
          "metadata": {},
          "output_type": "execute_result"
        }
      ],
      "source": [
        "array1.dot(array2)"
      ]
    },
    {
      "cell_type": "markdown",
      "metadata": {
        "id": "N5_cK43IN9-V"
      },
      "source": [
        "# Links"
      ]
    },
    {
      "cell_type": "markdown",
      "metadata": {
        "id": "MPWQN3JkN9-V"
      },
      "source": [
        "https://www.w3schools.com/python/numpy/default.asp\n",
        "\n",
        "https://numpy.org/es/learn/\n",
        "\n",
        "https://www.freecodecamp.org/espanol/news/la-guia-definitiva-del-paquete-numpy-para-computacion-cientifica-en-python/\n"
      ]
    },
    {
      "cell_type": "code",
      "execution_count": null,
      "metadata": {
        "collapsed": true,
        "id": "aNnjRCeJN9-V"
      },
      "outputs": [],
      "source": []
    }
  ],
  "metadata": {
    "kernelspec": {
      "display_name": "Python 3",
      "language": "python",
      "name": "python3"
    },
    "language_info": {
      "codemirror_mode": {
        "name": "ipython",
        "version": 3
      },
      "file_extension": ".py",
      "mimetype": "text/x-python",
      "name": "python",
      "nbconvert_exporter": "python",
      "pygments_lexer": "ipython3",
      "version": "3.7.1"
    },
    "colab": {
      "provenance": []
    }
  },
  "nbformat": 4,
  "nbformat_minor": 0
}