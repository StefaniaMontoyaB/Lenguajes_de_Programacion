{
  "nbformat": 4,
  "nbformat_minor": 0,
  "metadata": {
    "colab": {
      "provenance": [],
      "authorship_tag": "ABX9TyM6CHHqvfdVLa0hM/bnNw3+",
      "include_colab_link": true
    },
    "kernelspec": {
      "name": "python3",
      "display_name": "Python 3"
    },
    "language_info": {
      "name": "python"
    }
  },
  "cells": [
    {
      "cell_type": "markdown",
      "metadata": {
        "id": "view-in-github",
        "colab_type": "text"
      },
      "source": [
        "<a href=\"https://colab.research.google.com/github/StefaniaMontoyaB/Lenguajes_de_Programacion/blob/main/Ej_Funciones.ipynb\" target=\"_parent\"><img src=\"https://colab.research.google.com/assets/colab-badge.svg\" alt=\"Open In Colab\"/></a>"
      ]
    },
    {
      "cell_type": "code",
      "execution_count": 6,
      "metadata": {
        "colab": {
          "base_uri": "https://localhost:8080/"
        },
        "id": "yLHO4-Dbg4WQ",
        "outputId": "af8a339b-f34a-416a-c6ea-1456e6f9a991"
      },
      "outputs": [
        {
          "output_type": "stream",
          "name": "stdout",
          "text": [
            "Bienvenido al FEI\n",
            "Stefania\n",
            "Eres el asociado Stefania\n"
          ]
        }
      ],
      "source": [
        "#Ejemplos\n",
        "\n",
        "def nombres(nom):\n",
        "  print(f\"Eres el asociado {nom}\")\n",
        "\n",
        "print(\"Bienvenido al FEI\")\n",
        "nom= input()\n",
        "\n",
        "nombres(nom)\n",
        "\n"
      ]
    },
    {
      "cell_type": "code",
      "source": [
        "def Saludo_cordial(nom=\"Apreciado asociado\"): #Valor por defecto de una funcion\n",
        "    nombres(nom)\n",
        "\n",
        "Saludo_cordial(\"Stefania\")\n",
        "Saludo_cordial()"
      ],
      "metadata": {
        "colab": {
          "base_uri": "https://localhost:8080/"
        },
        "id": "W_rwY7vuktWA",
        "outputId": "f43aa4fa-d5e7-472b-be56-080f0d25fd43"
      },
      "execution_count": 9,
      "outputs": [
        {
          "output_type": "stream",
          "name": "stdout",
          "text": [
            "Eres el asociado Stefania\n",
            "Eres el asociado Apreciado asociado\n"
          ]
        }
      ]
    },
    {
      "cell_type": "code",
      "source": [
        "def sal_azucar (x,y):\n",
        "  sal = x * y\n",
        "  azucar = sal * 2\n",
        "  return sal, azucar\n",
        "\n",
        "total = sal_azucar(2,4)\n",
        "print(total)\n",
        "print(type(total))"
      ],
      "metadata": {
        "colab": {
          "base_uri": "https://localhost:8080/"
        },
        "id": "TSbT8Ngbpc0q",
        "outputId": "84084485-79d8-4730-b257-4c4fc2881523"
      },
      "execution_count": 12,
      "outputs": [
        {
          "output_type": "stream",
          "name": "stdout",
          "text": [
            "(8, 16)\n",
            "<class 'tuple'>\n"
          ]
        }
      ]
    },
    {
      "cell_type": "code",
      "source": [
        "sal, azucar = sal_azucar(2,4)\n",
        "print(sal)\n",
        "print(azucar)"
      ],
      "metadata": {
        "colab": {
          "base_uri": "https://localhost:8080/"
        },
        "id": "PEbK0LIxq3qy",
        "outputId": "ddd70ef8-1ede-4239-cda4-71f9253c27d0"
      },
      "execution_count": 13,
      "outputs": [
        {
          "output_type": "stream",
          "name": "stdout",
          "text": [
            "8\n",
            "16\n"
          ]
        }
      ]
    },
    {
      "cell_type": "code",
      "source": [
        "#Funciones Lambda o anonimas\n",
        "\n",
        "cuadrados = lambda x,y: x**2 + y**2\n",
        "total = cuadrados (2,3)\n",
        "print(total)\n",
        "\n"
      ],
      "metadata": {
        "colab": {
          "base_uri": "https://localhost:8080/"
        },
        "id": "90BYUCRIrVXk",
        "outputId": "bc311019-32fe-49a0-b7ee-4f43ca170ff0"
      },
      "execution_count": 16,
      "outputs": [
        {
          "output_type": "stream",
          "name": "stdout",
          "text": [
            "13\n"
          ]
        }
      ]
    }
  ]
}