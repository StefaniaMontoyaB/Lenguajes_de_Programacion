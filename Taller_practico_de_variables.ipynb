{
  "nbformat": 4,
  "nbformat_minor": 0,
  "metadata": {
    "colab": {
      "provenance": []
    },
    "kernelspec": {
      "name": "python3",
      "display_name": "Python 3"
    },
    "language_info": {
      "name": "python"
    }
  },
  "cells": [
    {
      "cell_type": "markdown",
      "source": [
        "### Taller Práctico: Variables en Python para Ingeniería Financiera\n",
        "\n",
        "# Introducción\n",
        "# En este taller, aprenderás a utilizar diferentes tipos de variables en Python\n",
        "# a través de ejercicios prácticos aplicados a escenarios financieros."
      ],
      "metadata": {
        "id": "Bo6nh2CyULcw"
      }
    },
    {
      "cell_type": "code",
      "source": [
        "# Ejercicio 1: Variables tipo string\n",
        "# Contexto: Un banco necesita almacenar el nombre de sus clientes. almacena 5 clientes en 5 variables diferentes\n"
      ],
      "metadata": {
        "id": "5jA7bjhcXcWI"
      },
      "execution_count": null,
      "outputs": []
    },
    {
      "cell_type": "markdown",
      "source": [
        "Resultado:"
      ],
      "metadata": {
        "id": "GmV9EQUzXuWv"
      }
    },
    {
      "cell_type": "code",
      "source": [
        "from re import M\n",
        "Nombre_Cliente_1 = \"Lina\"\n",
        "Nombre_Cliente_2 = \"Natalia\"\n",
        "Nombre_Cliente_3 = \"Diego\"\n",
        "Nombre_Cliente_4 = \"Katherine\"\n",
        "Nombre_Cliente_5 = \"Mauricio\"\n",
        "\n",
        "Mensaje_1 = f\"El nombre del cliente 1 es: {Nombre_Cliente_1}\"\n",
        "Mensaje_2 = f\"El nombre del cliente 2 es: {Nombre_Cliente_2}\"\n",
        "Mensaje_3 = f\"El nombre del cliente 3 es: {Nombre_Cliente_3}\"\n",
        "Mensaje_4 = f\"El nombre del cliente 4 es: {Nombre_Cliente_4}\"\n",
        "Mensaje_5 = f\"El nombre del cliente 5 es: {Nombre_Cliente_5}\"\n",
        "\n",
        "print(Mensaje_1)\n",
        "print(Mensaje_2)\n",
        "print(Mensaje_3)\n",
        "print(Mensaje_4)\n",
        "print(Mensaje_5)"
      ],
      "metadata": {
        "id": "jA7Qhj2tXwBN",
        "colab": {
          "base_uri": "https://localhost:8080/"
        },
        "outputId": "97f7fc4a-543c-413e-dba7-409291c1189b"
      },
      "execution_count": 2,
      "outputs": [
        {
          "output_type": "stream",
          "name": "stdout",
          "text": [
            "El nombre del cliente 1 es: Lina\n",
            "El nombre del cliente 2 es: Natalia\n",
            "El nombre del cliente 3 es: Diego\n",
            "El nombre del cliente 4 es: Katherine\n",
            "El nombre del cliente 5 es: Mauricio\n"
          ]
        }
      ]
    },
    {
      "cell_type": "code",
      "source": [
        "# Ejercicio 2: Concatenación de Strings\n",
        "# Contexto: Al generar reportes, el banco quiere mostrar el tipo de cuenta junto al nombre del cliente. realiza el ejercicio para las 5 variables\n"
      ],
      "metadata": {
        "id": "Sx7DMAgIX2xG"
      },
      "execution_count": null,
      "outputs": []
    },
    {
      "cell_type": "markdown",
      "source": [
        "Resultado"
      ],
      "metadata": {
        "id": "MgijW_JIX8Lu"
      }
    },
    {
      "cell_type": "code",
      "source": [
        "Cuenta_Cliente_1 = \"Cuenta de Ahorros\"\n",
        "Cuenta_Cliente_2 = \"Cuenta Corriente\"\n",
        "Cuenta_Cliente_3 = \"Fiducia\"\n",
        "Cuenta_Cliente_4 = \"Cuenta de NEQUI\"\n",
        "Cuenta_Cliente_5 = \"Cuenta de Nomina\"\n",
        "\n",
        "Mensaje_Cliente_1 = f\"La cliente {Nombre_Cliente_1} tiene una {Cuenta_Cliente_1}\"\n",
        "\n",
        "print(Mensaje_Cliente_1)"
      ],
      "metadata": {
        "id": "HjTub7W1X9c8",
        "colab": {
          "base_uri": "https://localhost:8080/"
        },
        "outputId": "115db4bd-d7e7-47c2-d05a-723a44750666"
      },
      "execution_count": 4,
      "outputs": [
        {
          "output_type": "stream",
          "name": "stdout",
          "text": [
            "La cliente Lina tiene una Cuenta de Ahorros\n"
          ]
        }
      ]
    },
    {
      "cell_type": "code",
      "source": [
        "# Ejercicio 4: Formateo de Variables\n",
        "# Contexto: Un banco necesita mostrar el saldo de un cliente con formato adecuado.\n"
      ],
      "metadata": {
        "id": "BC_aRDtOYKrb"
      },
      "execution_count": null,
      "outputs": []
    },
    {
      "cell_type": "markdown",
      "source": [
        "Resultado"
      ],
      "metadata": {
        "id": "swsBPuJ3YSej"
      }
    },
    {
      "cell_type": "code",
      "source": [
        "Saldo_Cliente_1 = 25000000\n",
        "Saldo_Cliente_2 = 15000000\n",
        "Saldo_Cliente_3 = 50000000\n",
        "Saldo_Cliente_4 = 30000000\n",
        "Saldo_Cliente_5 = 20000000\n",
        "\n",
        "Mensaje_Saldo_Cliente_1 = f\"El saldo de la cliente {Nombre_Cliente_1} es de ${Saldo_Cliente_1}\"\n",
        "\n",
        "print(Mensaje_Saldo_Cliente_1)"
      ],
      "metadata": {
        "id": "NPlztw_KYTzL",
        "colab": {
          "base_uri": "https://localhost:8080/"
        },
        "outputId": "590fcd37-dab3-40b0-d476-4f7d68cd2dcd"
      },
      "execution_count": 6,
      "outputs": [
        {
          "output_type": "stream",
          "name": "stdout",
          "text": [
            "El saldo de la cliente Lina es de $25000000\n"
          ]
        }
      ]
    },
    {
      "cell_type": "code",
      "source": [
        "# Ejercicio 5: Entrada de Datos\n",
        "# Contexto: Un cliente ingresa su número de identificación para consultar su estado de cuenta. crea para cada cliente una variable de identificacion\n",
        "id_cliente = input(\"Ingrese su número de identificación: \")\n",
        "print(\"ID registrado:\", id_cliente)"
      ],
      "metadata": {
        "id": "I7yQTuYqYcIJ"
      },
      "execution_count": null,
      "outputs": []
    },
    {
      "cell_type": "markdown",
      "source": [
        "Resultado"
      ],
      "metadata": {
        "id": "7vzKHerGYgpt"
      }
    },
    {
      "cell_type": "code",
      "source": [],
      "metadata": {
        "id": "puoOr2v2Yhz5",
        "colab": {
          "base_uri": "https://localhost:8080/"
        },
        "outputId": "8a7b72ed-4b53-44b5-c697-137c97371542"
      },
      "execution_count": 12,
      "outputs": [
        {
          "output_type": "stream",
          "name": "stdout",
          "text": [
            "Ingrese su número de identificación: 147852\n",
            "Ingrese su número de identificación: 125364\n",
            "Ingrese su número de identificación: 1123265\n",
            "Ingrese su número de identificación: 465585\n",
            "Ingrese su número de identificación: 466641\n",
            "ID Cliente 1: 147852\n"
          ]
        }
      ]
    },
    {
      "cell_type": "code",
      "source": [
        "# Ejercicio 6: Variables Booleanas\n",
        "# Contexto: Validar si un cliente tiene derecho a un préstamo. crea tres ejercicios con variables booleanas\n",
        "ingresos_mensuales = 3000\n",
        "historial_crediticio = True\n",
        "es_aprobado = ingresos_mensuales > 2500 and historial_crediticio\n",
        "print(\"¿El cliente es aprobado para el préstamo?:\", es_aprobado)"
      ],
      "metadata": {
        "id": "_zpACyy_YzZ4"
      },
      "execution_count": null,
      "outputs": []
    },
    {
      "cell_type": "code",
      "source": [
        "ingresos_mensuales = 2000000\n",
        "historial_crediticio = True\n",
        "es_aprobado = ingresos_mensuales > 2500000 and historial_crediticio\n",
        "print(\"¿El cliente es aprobado para el préstamo?:\", es_aprobado)"
      ],
      "metadata": {
        "colab": {
          "base_uri": "https://localhost:8080/"
        },
        "id": "kNJvunJY0o7W",
        "outputId": "90a681f2-f3f0-4947-a620-819aa1ff60c5"
      },
      "execution_count": 13,
      "outputs": [
        {
          "output_type": "stream",
          "name": "stdout",
          "text": [
            "¿El cliente es aprobado para el préstamo?: False\n"
          ]
        }
      ]
    }
  ]
}