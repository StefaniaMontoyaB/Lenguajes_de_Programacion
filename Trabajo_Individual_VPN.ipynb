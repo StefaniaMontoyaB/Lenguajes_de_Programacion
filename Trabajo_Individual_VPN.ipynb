{
  "nbformat": 4,
  "nbformat_minor": 0,
  "metadata": {
    "colab": {
      "provenance": [],
      "authorship_tag": "ABX9TyPtdZ2QEf5ZPJMlJ77XN/AJ",
      "include_colab_link": true
    },
    "kernelspec": {
      "name": "python3",
      "display_name": "Python 3"
    },
    "language_info": {
      "name": "python"
    }
  },
  "cells": [
    {
      "cell_type": "markdown",
      "metadata": {
        "id": "view-in-github",
        "colab_type": "text"
      },
      "source": [
        "<a href=\"https://colab.research.google.com/github/StefaniaMontoyaB/Lenguajes_de_Programacion/blob/main/Trabajo_Individual_VPN.ipynb\" target=\"_parent\"><img src=\"https://colab.research.google.com/assets/colab-badge.svg\" alt=\"Open In Colab\"/></a>"
      ]
    },
    {
      "cell_type": "markdown",
      "source": [
        "#**Explicación del Valor Presente Neto (VPN):**\n",
        "El VPN es una medida financiera que te permite evaluar la viabilidad de un proyecto, calculando la diferencia entre el valor presente de los flujos de caja futuros y la inversión inicial. Si el VPN es positivo, el proyecto es rentable; si es negativo, no lo es."
      ],
      "metadata": {
        "id": "a8-JXvH5Gwac"
      }
    },
    {
      "cell_type": "markdown",
      "source": [
        "$$VPN = \\sum_{t=0}^{n} \\frac{C_t}{(1+r)^t} - C_0$$\n",
        "\n"
      ],
      "metadata": {
        "id": "eot4cnfz2uvI"
      }
    },
    {
      "cell_type": "markdown",
      "source": [
        "#Descripción del Proyecto:\n",
        "\n",
        "En otra celda de Markdown, describe el proyecto. Supongamos que la empresa está considerando un proyecto con una inversión inicial de 10,000 y espera recibir flujos de caja de $3,000 en cada uno de los próximos tres años. La tasa de descuento es del 5%."
      ],
      "metadata": {
        "id": "701sR8LpG-sc"
      }
    },
    {
      "cell_type": "code",
      "source": [
        "inversion_inicial =20000\n",
        "flujo_ano_1 = 8000\n",
        "flujo_ano_2 = 8000\n",
        "flujo_ano_3 = 8000\n",
        "tasa_descuento = 0.05"
      ],
      "metadata": {
        "id": "8fN-I9CQ24sr"
      },
      "execution_count": null,
      "outputs": []
    },
    {
      "cell_type": "code",
      "source": [
        "vpn = (flujo_ano_1 / (1 + tasa_descuento)**1) + \\\n",
        "      (flujo_ano_2 / (1 + tasa_descuento)**2) + \\\n",
        "      (flujo_ano_3 / (1 + tasa_descuento)**3) - inversion_inicial\n",
        "print(\"El valor presente Neto (VPN) es:\", vpn)\n"
      ],
      "metadata": {
        "colab": {
          "base_uri": "https://localhost:8080/"
        },
        "id": "TKjv5dAq39U9",
        "outputId": "ac43f3c5-046f-482f-bcc1-8dd3d86ac8f8"
      },
      "execution_count": null,
      "outputs": [
        {
          "output_type": "stream",
          "name": "stdout",
          "text": [
            "El valor presente Neto (VPN) es: 1785.9842349638275\n"
          ]
        }
      ]
    },
    {
      "cell_type": "code",
      "source": [
        "if vpn > 0:\n",
        "   print(\"El proyecto es viable, ya que el vpn es positivo.\")\n",
        "else:\n",
        "   print(\"El proyecto no es viable, ya que el vpn es negativo.\")"
      ],
      "metadata": {
        "colab": {
          "base_uri": "https://localhost:8080/"
        },
        "id": "1LthNSel7-0s",
        "outputId": "2f868be5-0609-4af3-a2ce-a0ad92e70c28"
      },
      "execution_count": null,
      "outputs": [
        {
          "output_type": "stream",
          "name": "stdout",
          "text": [
            "El proyecto es viable, ya que el vpn es positivo.\n"
          ]
        }
      ]
    }
  ]
}