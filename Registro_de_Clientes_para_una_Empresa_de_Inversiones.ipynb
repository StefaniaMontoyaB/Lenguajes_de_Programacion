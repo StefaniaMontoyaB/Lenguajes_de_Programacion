{
  "nbformat": 4,
  "nbformat_minor": 0,
  "metadata": {
    "colab": {
      "provenance": []
    },
    "kernelspec": {
      "name": "python3",
      "display_name": "Python 3"
    },
    "language_info": {
      "name": "python"
    }
  },
  "cells": [
    {
      "cell_type": "markdown",
      "source": [
        "# **Descripción**\n",
        "\n",
        "En esta aplicación, los estudiantes simularán el registro de clientes para una empresa de inversiones. Usarán listas, tuplas y diccionarios para almacenar y gestionar información básica sobre los clientes, sus inversiones y el rendimiento de estas. El ejercicio no requiere el uso de ciclos o bucles, y cada operación se realizará de forma explícita."
      ],
      "metadata": {
        "id": "nYRnN-KLI4Ix"
      }
    },
    {
      "cell_type": "markdown",
      "source": [
        "## Paso a Paso de la Aplicación\n",
        "1. **Datos Iniciales del Registro de Clientes**\n",
        "Los estudiantes deben crear listas para almacenar la información básica de los clientes, como el nombre, el monto invertido y el rendimiento obtenido."
      ],
      "metadata": {
        "id": "PZIEw-7SI-2s"
      }
    },
    {
      "cell_type": "code",
      "execution_count": null,
      "metadata": {
        "id": "3ID7lSJaIy_X"
      },
      "outputs": [],
      "source": [
        "# Listas para almacenar información de clientes\n",
        "clientes = [\"Juan Perez\", \"Maria Rodriguez\", \"Carlos Lopez\"]\n",
        "montos_invertidos = [10000, 15000, 20000]  # en dólares\n",
        "rendimientos = [5.0, 6.5, 7.0]  # en porcentaje\n",
        "\n"
      ]
    },
    {
      "cell_type": "code",
      "source": [
        "# Lista de información de clientes\n",
        "\n",
        "Clientes = [\"Lina Rivera\", \"Natalia Delgado\", \"Diego Vélez\", \"Katherine Giraldo\"]\n",
        "Montos_Invertidos= [150000, 200000, 300000, 400000] #En pesos\n",
        "Rendimientos= [1.5, 2.5, 3.5, 4.5] #En porcentaje\n",
        "\n",
        "print(Clientes)\n",
        "print(Montos_Invertidos)\n",
        "print(Rendimientos)"
      ],
      "metadata": {
        "id": "bYzhh1dFVJI3",
        "outputId": "e3834e68-8ee0-4c01-be61-5625115d4cd1",
        "colab": {
          "base_uri": "https://localhost:8080/"
        }
      },
      "execution_count": 4,
      "outputs": [
        {
          "output_type": "stream",
          "name": "stdout",
          "text": [
            "['Lina Rivera', 'Natalia Delgado', 'Diego Vélez', 'Katherine Giraldo']\n",
            "[150000, 200000, 300000, 400000]\n",
            "[1.5, 2.5, 3.5, 4.5]\n"
          ]
        }
      ]
    },
    {
      "cell_type": "markdown",
      "source": [
        "2. **Crear Tuplas para Cada Cliente**\n",
        "Cada cliente tendrá una tupla que contenga su nombre, el monto invertido y el rendimiento obtenido. Esta información es inmutable."
      ],
      "metadata": {
        "id": "1O-iPIbXKbTm"
      }
    },
    {
      "cell_type": "code",
      "source": [
        "# Tupla de Clientes\n",
        "\n",
        "Cliente1 = (\"Lina Rivera\", 150000, 1.5)\n",
        "Cliente2 = (\"Natalia Delgado\", 200000, 2.5)\n",
        "Cliente3 = (\"Diego Velez\", 300000, 3.5)\n",
        "Cliente4 = (\"Katherine Giraldo\", 400000, 4.5)\n",
        "\n",
        "print(Cliente1)\n",
        "print(Cliente2)\n",
        "print(Cliente3)\n",
        "print(Cliente4)"
      ],
      "metadata": {
        "id": "EItKCjCOWjHA",
        "outputId": "2edbe00a-a3c2-47c7-da43-b8c32f48cdf6",
        "colab": {
          "base_uri": "https://localhost:8080/"
        }
      },
      "execution_count": 5,
      "outputs": [
        {
          "output_type": "stream",
          "name": "stdout",
          "text": [
            "('Lina Rivera', 150000, 1.5)\n",
            "('Natalia Delgado', 200000, 2.5)\n",
            "('Diego Velez', 300000, 3.5)\n",
            "('Katherine Giraldo', 400000, 4.5)\n"
          ]
        }
      ]
    },
    {
      "cell_type": "markdown",
      "source": [
        "3. **Organizar los Datos en un Diccionario**\n",
        "Crear un diccionario llamado registro_clientes donde cada clave sea el nombre de un cliente y el valor sea un diccionario con detalles del monto invertido y el rendimiento."
      ],
      "metadata": {
        "id": "kVFvpWF5KipP"
      }
    },
    {
      "cell_type": "code",
      "source": [
        "# Diccionario de informacion clientes\n",
        "\n",
        "Registro_Clientes = {\"Lina Rivera\": {\"Monto_Invertido\":150000, \"Rendimiento\":1.5},\n",
        "                     \"Natalia Delgado\": {\"Monto_Invertido\":200000, \"Rendimiento\":2.5},\n",
        "                     \"Diego Velez\": {\"Monto_Invertido\":300000, \"Rendimiento\":3.5},\n",
        "                     \"Katherine Giraldo\": {\"Monto_Invertido\":400000, \"Rendimiento\":4.5}}\n",
        "\n",
        "print(Registro_Clientes)\n",
        "\n",
        "\n"
      ],
      "metadata": {
        "id": "eU3cSyZOXiCc",
        "outputId": "dba54cbb-60d4-43f4-e5dc-aae9be672c1e",
        "colab": {
          "base_uri": "https://localhost:8080/"
        }
      },
      "execution_count": 6,
      "outputs": [
        {
          "output_type": "stream",
          "name": "stdout",
          "text": [
            "{'Lina Rivera': {'Monto_Invertido': 150000, 'Rendimiento': 1.5}, 'Natalia Delgado': {'Monto_Invertido': 200000, 'Rendimiento': 2.5}, 'Diego Velez': {'Monto_Invertido': 300000, 'Rendimiento': 3.5}, 'Katherine Giraldo': {'Monto_Invertido': 400000, 'Rendimiento': 4.5}}\n"
          ]
        }
      ]
    },
    {
      "cell_type": "markdown",
      "source": [
        "4. **Calcular el Rendimiento Total de un Cliente**\n",
        "Usando el diccionario registro_clientes, los estudiantes calcularán el rendimiento total (en dólares) de un cliente específico, por ejemplo, \"Maria Rodriguez\"."
      ],
      "metadata": {
        "id": "hitAKVLXKnXQ"
      }
    },
    {
      "cell_type": "markdown",
      "source": [
        "5. **Actualizar el Monto Invertido de un Cliente**\n",
        "Los estudiantes deben actualizar el monto_invertido de \"Carlos Lopez\" en el diccionario registro_clientes a un nuevo valor (por ejemplo, 25000)."
      ],
      "metadata": {
        "id": "qattAT40Kw_l"
      }
    },
    {
      "cell_type": "markdown",
      "source": [
        "6. **Añadir un Nuevo Cliente al Registro**\n",
        "Añadir un nuevo cliente llamado \"Ana Gomez\" al diccionario registro_clientes con un monto_invertido de 18000 y un rendimiento de 5.8%."
      ],
      "metadata": {
        "id": "_MWWTlDiKzrh"
      }
    },
    {
      "cell_type": "markdown",
      "source": [
        "7. **Remover un Cliente del Registro**\n",
        "Remover al cliente \"Juan Perez\" del diccionario registro_clientes."
      ],
      "metadata": {
        "id": "WhxURQlJK5Gp"
      }
    },
    {
      "cell_type": "markdown",
      "source": [],
      "metadata": {
        "id": "lQTq2rLNK-aW"
      }
    }
  ]
}