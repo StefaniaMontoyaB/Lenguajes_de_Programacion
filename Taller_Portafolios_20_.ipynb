{
  "nbformat": 4,
  "nbformat_minor": 0,
  "metadata": {
    "colab": {
      "provenance": [],
      "authorship_tag": "ABX9TyPji1bo5leEfs1VUuduMwFI",
      "include_colab_link": true
    },
    "kernelspec": {
      "name": "python3",
      "display_name": "Python 3"
    },
    "language_info": {
      "name": "python"
    }
  },
  "cells": [
    {
      "cell_type": "markdown",
      "metadata": {
        "id": "view-in-github",
        "colab_type": "text"
      },
      "source": [
        "<a href=\"https://colab.research.google.com/github/StefaniaMontoyaB/Lenguajes_de_Programacion/blob/main/Taller_Portafolios_20_.ipynb\" target=\"_parent\"><img src=\"https://colab.research.google.com/assets/colab-badge.svg\" alt=\"Open In Colab\"/></a>"
      ]
    },
    {
      "cell_type": "code",
      "execution_count": 109,
      "metadata": {
        "id": "T8f50RjB1llA",
        "colab": {
          "base_uri": "https://localhost:8080/"
        },
        "outputId": "ae9b3c1c-475b-4a92-8fc1-1e6cfa373a1a"
      },
      "outputs": [
        {
          "output_type": "stream",
          "name": "stdout",
          "text": [
            "['Edison Arroyave', 'Danny Perdomo', 'Mary Vasquez', 'Andres Lombana']\n",
            "[25000, 40000, 56000, 65000]\n",
            "[2.5, 4.5, 6.0, 7.5]\n"
          ]
        }
      ],
      "source": [
        "#Parte 1\n",
        "#Declaracion de Variables\n",
        "\n",
        "Clientes = [\"Edison Arroyave\", \"Danny Perdomo\", \"Mary Vasquez\", \"Andres Lombana\"]\n",
        "Montos_invertidos = [25000, 40000, 56000, 65000] #En dolares\n",
        "Rendimientos = [2.5, 4.5, 6.0, 7.5] #En porcentaje\n",
        "\n",
        "print(Clientes)\n",
        "print(Montos_invertidos)\n",
        "print(Rendimientos)"
      ]
    },
    {
      "cell_type": "code",
      "source": [
        "#Tuplas\n",
        "\n",
        "Cliente_1 = (Clientes[0], Montos_invertidos[0], Rendimientos[0])\n",
        "Cliente_2 = (Clientes[1], Montos_invertidos[1], Rendimientos[1])\n",
        "Cliente_3 = (Clientes[2], Montos_invertidos[2], Rendimientos[2])\n",
        "Cliente_4 = (Clientes[3], Montos_invertidos[3], Rendimientos[3])\n",
        "\n",
        "print(Cliente_1)\n",
        "print(Cliente_2)\n",
        "print(Cliente_3)\n",
        "print(Cliente_4)"
      ],
      "metadata": {
        "colab": {
          "base_uri": "https://localhost:8080/"
        },
        "id": "kv2Eb97c8SOv",
        "outputId": "a2c62427-8942-4cb9-da35-476c3228448e"
      },
      "execution_count": 110,
      "outputs": [
        {
          "output_type": "stream",
          "name": "stdout",
          "text": [
            "('Edison Arroyave', 25000, 2.5)\n",
            "('Danny Perdomo', 40000, 4.5)\n",
            "('Mary Vasquez', 56000, 6.0)\n",
            "('Andres Lombana', 65000, 7.5)\n"
          ]
        }
      ]
    },
    {
      "cell_type": "code",
      "source": [
        "#Parte 2\n",
        "#Uso de diccionarios y condiciones\n",
        "#Almacenar datos en un diccionario\n",
        "\n",
        "Portafolio = {Cliente_1[0]: {\"Montos_invertidos\":Cliente_1[1] , \"Rendimientos\":Cliente_1[2]},\n",
        "              Cliente_2[0]: {\"Montos_invertidos\":Cliente_2[1] , \"Rendimientos\":Cliente_2[2]},\n",
        "              Cliente_3[0]: {\"Montos_invertidos\":Cliente_3[1] , \"Rendimientos\":Cliente_3[2]},\n",
        "              Cliente_4[0]: {\"Montos_invertidos\":Cliente_4[1] , \"Rendimientos\":Cliente_4[2]}}\n",
        "\n",
        "print(Portafolio)"
      ],
      "metadata": {
        "colab": {
          "base_uri": "https://localhost:8080/"
        },
        "id": "RifpwpsD9HZR",
        "outputId": "183fa011-b980-4289-9322-8991d343b838"
      },
      "execution_count": 111,
      "outputs": [
        {
          "output_type": "stream",
          "name": "stdout",
          "text": [
            "{'Edison Arroyave': {'Montos_invertidos': 25000, 'Rendimientos': 2.5}, 'Danny Perdomo': {'Montos_invertidos': 40000, 'Rendimientos': 4.5}, 'Mary Vasquez': {'Montos_invertidos': 56000, 'Rendimientos': 6.0}, 'Andres Lombana': {'Montos_invertidos': 65000, 'Rendimientos': 7.5}}\n"
          ]
        }
      ]
    },
    {
      "cell_type": "code",
      "source": [
        "#Evaluacion del rendimiento de los Clientes\n",
        "\n",
        "for Cliente, valor in Portafolio.items():\n",
        "  if (valor[\"Rendimientos\"]>5):\n",
        "    print(f\"{Cliente} tiene un rendimiento de {valor['Rendimientos']}%\")\n",
        "  else:\n",
        "    print(f\"{Cliente} tiene un rendimiento bajo\")\n"
      ],
      "metadata": {
        "colab": {
          "base_uri": "https://localhost:8080/"
        },
        "id": "_6jtvBdJAS03",
        "outputId": "5218a3d1-34f9-45a8-eda5-42a1a1c9703e"
      },
      "execution_count": 112,
      "outputs": [
        {
          "output_type": "stream",
          "name": "stdout",
          "text": [
            "Edison Arroyave tiene un rendimiento bajo\n",
            "Danny Perdomo tiene un rendimiento bajo\n",
            "Mary Vasquez tiene un rendimiento de 6.0%\n",
            "Andres Lombana tiene un rendimiento de 7.5%\n"
          ]
        }
      ]
    },
    {
      "cell_type": "code",
      "source": [
        "#Parte 3\n",
        "#Calculos con Ciclos\n",
        "\n",
        "#Rendimiento total del Portafolio\n",
        "\n",
        "Rendimiento_Total = 0\n",
        "for Cliente, valor in Portafolio.items():\n",
        "  Rendimiento_Cliente = (valor[\"Montos_invertidos\"]*valor[\"Rendimientos\"])/100\n",
        "  Rendimiento_Total += Rendimiento_Cliente\n",
        "\n",
        "  print(f\"El rendimiento total del Portafolio es de: ${Rendimiento_Total:.2f}\")"
      ],
      "metadata": {
        "colab": {
          "base_uri": "https://localhost:8080/"
        },
        "id": "TDeN5S9WEGlo",
        "outputId": "fa3d15a9-f569-4b77-e396-a41d7241871c"
      },
      "execution_count": 113,
      "outputs": [
        {
          "output_type": "stream",
          "name": "stdout",
          "text": [
            "El rendimiento total del Portafolio es de: $625.00\n",
            "El rendimiento total del Portafolio es de: $2425.00\n",
            "El rendimiento total del Portafolio es de: $5785.00\n",
            "El rendimiento total del Portafolio es de: $10660.00\n"
          ]
        }
      ]
    },
    {
      "cell_type": "code",
      "source": [
        "#Cliente con mayor rendimiento\n",
        "\n",
        "Rendimiento_Total = 0\n",
        "Cliente_Mayor_Rendimiento = \"\"\n",
        "for Cliente, valor in Portafolio.items():\n",
        "  Rendimiento_Cliente =(valor[\"Montos_invertidos\"]*valor[\"Rendimientos\"])/100\n",
        "  if(Rendimiento_Cliente > Rendimiento_Total):\n",
        "    Rendimiento_Total = Rendimiento_Cliente\n",
        "    Cliente_Mayor_Rendimiento = Cliente\n",
        "\n",
        "print(f\"El cliente con mayor rendimiento es: {Cliente_Mayor_Rendimiento} con un valor de ${Rendimiento_Total:.2f}\")"
      ],
      "metadata": {
        "colab": {
          "base_uri": "https://localhost:8080/"
        },
        "id": "keh7IMVuHflj",
        "outputId": "e77d2aaa-b6a1-4f61-e3c7-48a77329b709"
      },
      "execution_count": 114,
      "outputs": [
        {
          "output_type": "stream",
          "name": "stdout",
          "text": [
            "El cliente con mayor rendimiento es: Andres Lombana con un valor de $4875.00\n"
          ]
        }
      ]
    },
    {
      "cell_type": "code",
      "source": [
        "#Punto 4\n",
        "#Modificaciones del Portafolio\n",
        "\n",
        "#Actualizar monto invertido\n",
        "\n",
        "Portafolio[Cliente_3[0]][\"Montos_invertidos\"] = 70000\n",
        "print(Portafolio)\n"
      ],
      "metadata": {
        "colab": {
          "base_uri": "https://localhost:8080/"
        },
        "id": "hq8pi80epjHC",
        "outputId": "6ad1ad56-e1d2-40bf-a7ce-efc235c5f2e4"
      },
      "execution_count": 117,
      "outputs": [
        {
          "output_type": "stream",
          "name": "stdout",
          "text": [
            "{'Edison Arroyave': {'Montos_invertidos': 25000, 'Rendimientos': 2.5}, 'Danny Perdomo': {'Montos_invertidos': 40000, 'Rendimientos': 4.5}, 'Mary Vasquez': {'Montos_invertidos': 70000, 'Rendimientos': 6.0}, 'Andres Lombana': {'Montos_invertidos': 65000, 'Rendimientos': 7.5}}\n"
          ]
        }
      ]
    },
    {
      "cell_type": "code",
      "source": [
        "#Añadir un nuevo Cliente\n",
        "\n",
        "Clientes.append(\"Natalia Rueda\")\n",
        "Montos_invertidos.append(80000)\n",
        "Rendimientos.append(8.5)\n",
        "\n",
        "Cliente_5 = (Clientes[4], Montos_invertidos[4], Rendimientos[4])\n",
        "\n",
        "Portafolio[Cliente_5[0]] = {\"Montos_invertidos\":Cliente_5[1] , \"Rendimientos\":Cliente_5[2]}\n",
        "print(Portafolio)"
      ],
      "metadata": {
        "colab": {
          "base_uri": "https://localhost:8080/"
        },
        "id": "lIH-0s-DsDuY",
        "outputId": "dacbb849-309a-443e-8e9b-c2963cc1ad0c"
      },
      "execution_count": 122,
      "outputs": [
        {
          "output_type": "stream",
          "name": "stdout",
          "text": [
            "{'Edison Arroyave': {'Montos_invertidos': 25000, 'Rendimientos': 2.5}, 'Danny Perdomo': {'Montos_invertidos': 40000, 'Rendimientos': 4.5}, 'Mary Vasquez': {'Montos_invertidos': 70000, 'Rendimientos': 6.0}, 'Andres Lombana': {'Montos_invertidos': 65000, 'Rendimientos': 7.5}, 'Natalia Rueda': {'Montos_invertidos': 80000, 'Rendimientos': 8.5}}\n"
          ]
        }
      ]
    },
    {
      "cell_type": "code",
      "source": [
        "#Remover un Cliente\n",
        "\n",
        "Portafolio.pop(\"Edison Arroyave\")\n",
        "print(Portafolio)"
      ],
      "metadata": {
        "colab": {
          "base_uri": "https://localhost:8080/"
        },
        "id": "Ljl2xG5rsNZ2",
        "outputId": "97f46e70-60f3-4b67-aaaf-76b7692a948e"
      },
      "execution_count": 123,
      "outputs": [
        {
          "output_type": "stream",
          "name": "stdout",
          "text": [
            "{'Danny Perdomo': {'Montos_invertidos': 40000, 'Rendimientos': 4.5}, 'Mary Vasquez': {'Montos_invertidos': 70000, 'Rendimientos': 6.0}, 'Andres Lombana': {'Montos_invertidos': 65000, 'Rendimientos': 7.5}, 'Natalia Rueda': {'Montos_invertidos': 80000, 'Rendimientos': 8.5}}\n"
          ]
        }
      ]
    }
  ]
}